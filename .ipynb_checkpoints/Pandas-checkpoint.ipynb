{
 "cells": [
  {
   "cell_type": "code",
   "execution_count": 2,
   "id": "b8ecd6fc-16e1-45bc-9b20-d5f2a47ad1f6",
   "metadata": {},
   "outputs": [],
   "source": [
    "import pandas as pd\n",
    "import numpy as np"
   ]
  },
  {
   "cell_type": "code",
   "execution_count": 3,
   "id": "04898a62-528d-4058-8e38-38e6de30978b",
   "metadata": {},
   "outputs": [],
   "source": [
    "grades = {\"Alper\":40,\"Berk\":60,\"Yiğit\":72}"
   ]
  },
  {
   "cell_type": "code",
   "execution_count": 98,
   "id": "e3c21d44-7235-4f87-a2a4-d6d67dc941c8",
   "metadata": {},
   "outputs": [
    {
     "data": {
      "text/plain": [
       "0    50\n",
       "1    60\n",
       "2    70\n",
       "dtype: int64"
      ]
     },
     "execution_count": 98,
     "metadata": {},
     "output_type": "execute_result"
    }
   ],
   "source": [
    "pd.Series(grades)\n",
    "#Kısacası, Series, veri biliminde ve veri analizinde en temel yapı taşlarından biridir ve veriyi düzenlemek, \n",
    "#temizlemek ve üzerinde hızlı işlemler yapmak için tasarlanmıştır. DataFrame'ler ise birden fazla Series'in birleşimiyle oluşturulmuş,\n",
    "#iki boyutlu veri tablolarıdır."
   ]
  },
  {
   "cell_type": "code",
   "execution_count": 7,
   "id": "42d5cbb5-bcc2-44cd-8bfb-f9501cf7d73f",
   "metadata": {},
   "outputs": [],
   "source": [
    "names = [\"John\",\"Frenk\",\"Cemil\"]\n",
    "grades =[50,60,70]\n"
   ]
  },
  {
   "cell_type": "code",
   "execution_count": 8,
   "id": "63cab070-f30d-4fe6-b88f-f8be53384c5c",
   "metadata": {},
   "outputs": [
    {
     "data": {
      "text/plain": [
       "0     John\n",
       "1    Frenk\n",
       "2    Cemil\n",
       "dtype: object"
      ]
     },
     "execution_count": 8,
     "metadata": {},
     "output_type": "execute_result"
    }
   ],
   "source": [
    "pd.Series(names)"
   ]
  },
  {
   "cell_type": "code",
   "execution_count": 9,
   "id": "aee8c683-7b7d-4a24-a940-1c46849d1edb",
   "metadata": {},
   "outputs": [
    {
     "data": {
      "text/plain": [
       "0    50\n",
       "1    60\n",
       "2    70\n",
       "dtype: int64"
      ]
     },
     "execution_count": 9,
     "metadata": {},
     "output_type": "execute_result"
    }
   ],
   "source": [
    "pd.Series(grades)"
   ]
  },
  {
   "cell_type": "code",
   "execution_count": 12,
   "id": "b8f4ae94-1acc-4d33-b128-33729b2333c1",
   "metadata": {},
   "outputs": [
    {
     "data": {
      "text/plain": [
       "John     50\n",
       "Frenk    60\n",
       "Cemil    70\n",
       "dtype: int64"
      ]
     },
     "execution_count": 12,
     "metadata": {},
     "output_type": "execute_result"
    }
   ],
   "source": [
    "pd.Series(data=grades,index=names)"
   ]
  },
  {
   "cell_type": "code",
   "execution_count": 13,
   "id": "a4fa39d7-12c2-4c62-90a4-80e7cbb8fe3b",
   "metadata": {},
   "outputs": [],
   "source": [
    "#numpy ile"
   ]
  },
  {
   "cell_type": "code",
   "execution_count": 14,
   "id": "82fc8437-1f39-433b-89f8-81e8b708dc05",
   "metadata": {},
   "outputs": [],
   "source": [
    "np_array = np.array([50,40,30,20])"
   ]
  },
  {
   "cell_type": "code",
   "execution_count": 15,
   "id": "e33f1800-cb59-4ad2-bf43-56272cdb5181",
   "metadata": {},
   "outputs": [
    {
     "data": {
      "text/plain": [
       "0    50\n",
       "1    40\n",
       "2    30\n",
       "3    20\n",
       "dtype: int64"
      ]
     },
     "execution_count": 15,
     "metadata": {},
     "output_type": "execute_result"
    }
   ],
   "source": [
    "pd.Series(np_array)"
   ]
  },
  {
   "cell_type": "code",
   "execution_count": 16,
   "id": "557995d4-4ebb-457d-a187-13f1d86ad63a",
   "metadata": {},
   "outputs": [],
   "source": [
    "#arithmetic"
   ]
  },
  {
   "cell_type": "code",
   "execution_count": 63,
   "id": "8cc99bed-9372-4b9d-bc05-f44dc2334a5d",
   "metadata": {},
   "outputs": [],
   "source": [
    "contest_result=pd.Series(data = [10,5,100],index=[\"Mert\",\"Yağız\",\"Can\"])"
   ]
  },
  {
   "cell_type": "code",
   "execution_count": 64,
   "id": "6cf39a80-4ada-4a7d-a973-719020b6e084",
   "metadata": {},
   "outputs": [
    {
     "data": {
      "text/plain": [
       "Mert      10\n",
       "Yağız      5\n",
       "Can      100\n",
       "dtype: int64"
      ]
     },
     "execution_count": 64,
     "metadata": {},
     "output_type": "execute_result"
    }
   ],
   "source": [
    "contest_result"
   ]
  },
  {
   "cell_type": "code",
   "execution_count": 76,
   "id": "764ddb8e-94e8-456a-9439-88fec30cc39d",
   "metadata": {},
   "outputs": [],
   "source": [
    "constest_result2=pd.Series(data = [30,40,0],index=[\"Mert\",\"Yağız\",\"Can\"])"
   ]
  },
  {
   "cell_type": "code",
   "execution_count": 77,
   "id": "180f97ea-e9a5-4b63-8c6a-23c13e143c8b",
   "metadata": {},
   "outputs": [
    {
     "data": {
      "text/plain": [
       "Mert     30\n",
       "Yağız    40\n",
       "Can      70\n",
       "dtype: int64"
      ]
     },
     "execution_count": 77,
     "metadata": {},
     "output_type": "execute_result"
    }
   ],
   "source": [
    "contest_result2"
   ]
  },
  {
   "cell_type": "code",
   "execution_count": 78,
   "id": "24d92287-3a18-420d-bc7f-cd2a3fb76254",
   "metadata": {},
   "outputs": [
    {
     "data": {
      "text/plain": [
       "np.int64(10)"
      ]
     },
     "execution_count": 78,
     "metadata": {},
     "output_type": "execute_result"
    }
   ],
   "source": [
    "contest_result[\"Mert\"]"
   ]
  },
  {
   "cell_type": "code",
   "execution_count": 79,
   "id": "3db16520-bfba-4f2e-8148-c1e633d0d856",
   "metadata": {},
   "outputs": [],
   "source": [
    "final_result =  contest_result + contest_result2"
   ]
  },
  {
   "cell_type": "code",
   "execution_count": 88,
   "id": "c40567ff-6584-4c5d-9c26-b9a2fd53989a",
   "metadata": {},
   "outputs": [
    {
     "data": {
      "text/plain": [
       "Mert      40\n",
       "Yağız     45\n",
       "Can      170\n",
       "dtype: int64"
      ]
     },
     "execution_count": 88,
     "metadata": {},
     "output_type": "execute_result"
    }
   ],
   "source": [
    "final_result"
   ]
  },
  {
   "cell_type": "code",
   "execution_count": 93,
   "id": "abdbc02d-c6e3-41aa-901f-89cb4881f564",
   "metadata": {},
   "outputs": [],
   "source": [
    "contest_result3=pd.Series(data = [30,40,0],index=[\"Selim\",\"Burak\",\"Mahmut\"])"
   ]
  },
  {
   "cell_type": "code",
   "execution_count": 94,
   "id": "84e4ea65-ffca-4cec-81c2-84957d8f8f55",
   "metadata": {},
   "outputs": [
    {
     "data": {
      "text/plain": [
       "Selim     30\n",
       "Burak     40\n",
       "Mahmut     0\n",
       "dtype: int64"
      ]
     },
     "execution_count": 94,
     "metadata": {},
     "output_type": "execute_result"
    }
   ],
   "source": [
    "constest_result3"
   ]
  },
  {
   "cell_type": "code",
   "execution_count": 95,
   "id": "3324ecc2-58fd-4eed-9676-403e18c04b2a",
   "metadata": {},
   "outputs": [],
   "source": [
    "final_result2 =  contest_result + contest_result3"
   ]
  },
  {
   "cell_type": "code",
   "execution_count": 97,
   "id": "b23dd122-255a-461f-aa39-bcb1f3f18a2f",
   "metadata": {},
   "outputs": [
    {
     "data": {
      "text/plain": [
       "Burak    NaN\n",
       "Can      NaN\n",
       "Mahmut   NaN\n",
       "Mert     NaN\n",
       "Selim    NaN\n",
       "Yağız    NaN\n",
       "dtype: float64"
      ]
     },
     "execution_count": 97,
     "metadata": {},
     "output_type": "execute_result"
    }
   ],
   "source": [
    "final_result2\n",
    "#ortak bir index işlemi yapamdan toplarsak NaN alırız\n",
    "#ortak indexleri toplar"
   ]
  },
  {
   "cell_type": "code",
   "execution_count": null,
   "id": "b16e37cb-ba4a-4e43-8c26-8989415602d5",
   "metadata": {},
   "outputs": [],
   "source": []
  }
 ],
 "metadata": {
  "kernelspec": {
   "display_name": "Python 3 (ipykernel)",
   "language": "python",
   "name": "python3"
  },
  "language_info": {
   "codemirror_mode": {
    "name": "ipython",
    "version": 3
   },
   "file_extension": ".py",
   "mimetype": "text/x-python",
   "name": "python",
   "nbconvert_exporter": "python",
   "pygments_lexer": "ipython3",
   "version": "3.13.5"
  }
 },
 "nbformat": 4,
 "nbformat_minor": 5
}
