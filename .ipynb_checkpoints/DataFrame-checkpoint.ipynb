{
 "cells": [
  {
   "cell_type": "code",
   "execution_count": 11,
   "id": "7e995e8c-6f53-4a6b-8c58-9d299ac62427",
   "metadata": {},
   "outputs": [],
   "source": [
    "import numpy as np\n",
    "import pandas as pd"
   ]
  },
  {
   "cell_type": "code",
   "execution_count": 12,
   "id": "287a362d-fbba-4970-9ce2-3fc1512a7711",
   "metadata": {},
   "outputs": [],
   "source": [
    "data = np.random.randn(4,3)"
   ]
  },
  {
   "cell_type": "code",
   "execution_count": 13,
   "id": "494aa2bb-e391-49a8-9fa6-7c457341d430",
   "metadata": {},
   "outputs": [
    {
     "data": {
      "text/plain": [
       "array([[ 1.1513731 ,  1.8636842 , -0.80438699],\n",
       "       [-1.35854575, -1.08824295,  0.81994318],\n",
       "       [-0.76583961,  1.08926762, -1.0810302 ],\n",
       "       [ 0.18923776, -0.71287532,  1.28401207]])"
      ]
     },
     "execution_count": 13,
     "metadata": {},
     "output_type": "execute_result"
    }
   ],
   "source": [
    "data"
   ]
  },
  {
   "cell_type": "code",
   "execution_count": 14,
   "id": "0b8a4f32-6bfe-42e2-828b-516c531a095f",
   "metadata": {},
   "outputs": [],
   "source": [
    "data_frame = pd.DataFrame(data)"
   ]
  },
  {
   "cell_type": "code",
   "execution_count": 15,
   "id": "f2360589-52ea-4a78-b095-f4c351688703",
   "metadata": {},
   "outputs": [
    {
     "data": {
      "text/html": [
       "<div>\n",
       "<style scoped>\n",
       "    .dataframe tbody tr th:only-of-type {\n",
       "        vertical-align: middle;\n",
       "    }\n",
       "\n",
       "    .dataframe tbody tr th {\n",
       "        vertical-align: top;\n",
       "    }\n",
       "\n",
       "    .dataframe thead th {\n",
       "        text-align: right;\n",
       "    }\n",
       "</style>\n",
       "<table border=\"1\" class=\"dataframe\">\n",
       "  <thead>\n",
       "    <tr style=\"text-align: right;\">\n",
       "      <th></th>\n",
       "      <th>0</th>\n",
       "      <th>1</th>\n",
       "      <th>2</th>\n",
       "    </tr>\n",
       "  </thead>\n",
       "  <tbody>\n",
       "    <tr>\n",
       "      <th>0</th>\n",
       "      <td>1.151373</td>\n",
       "      <td>1.863684</td>\n",
       "      <td>-0.804387</td>\n",
       "    </tr>\n",
       "    <tr>\n",
       "      <th>1</th>\n",
       "      <td>-1.358546</td>\n",
       "      <td>-1.088243</td>\n",
       "      <td>0.819943</td>\n",
       "    </tr>\n",
       "    <tr>\n",
       "      <th>2</th>\n",
       "      <td>-0.765840</td>\n",
       "      <td>1.089268</td>\n",
       "      <td>-1.081030</td>\n",
       "    </tr>\n",
       "    <tr>\n",
       "      <th>3</th>\n",
       "      <td>0.189238</td>\n",
       "      <td>-0.712875</td>\n",
       "      <td>1.284012</td>\n",
       "    </tr>\n",
       "  </tbody>\n",
       "</table>\n",
       "</div>"
      ],
      "text/plain": [
       "          0         1         2\n",
       "0  1.151373  1.863684 -0.804387\n",
       "1 -1.358546 -1.088243  0.819943\n",
       "2 -0.765840  1.089268 -1.081030\n",
       "3  0.189238 -0.712875  1.284012"
      ]
     },
     "execution_count": 15,
     "metadata": {},
     "output_type": "execute_result"
    }
   ],
   "source": [
    "data_frame"
   ]
  },
  {
   "cell_type": "code",
   "execution_count": 16,
   "id": "fa792315-395c-4c4c-b065-94779fee18f4",
   "metadata": {},
   "outputs": [
    {
     "data": {
      "text/plain": [
       "0   -0.804387\n",
       "1    0.819943\n",
       "2   -1.081030\n",
       "3    1.284012\n",
       "Name: 2, dtype: float64"
      ]
     },
     "execution_count": 16,
     "metadata": {},
     "output_type": "execute_result"
    }
   ],
   "source": [
    "data_frame[2]"
   ]
  },
  {
   "cell_type": "code",
   "execution_count": 19,
   "id": "8a2c16a1-a15b-4105-9d20-1cf5df999624",
   "metadata": {},
   "outputs": [],
   "source": [
    "new_df = pd.DataFrame(data,index=[\"Mert\",\"Yiğit\",\"Can\",\"Berk\"],columns=[\"Note\",\"Age\",\"Date\"])"
   ]
  },
  {
   "cell_type": "code",
   "execution_count": 20,
   "id": "12a2a97b-7cd8-4e45-be01-edb34914e2bc",
   "metadata": {},
   "outputs": [
    {
     "data": {
      "text/plain": [
       "Mert     1.863684\n",
       "Yiğit   -1.088243\n",
       "Can      1.089268\n",
       "Berk    -0.712875\n",
       "Name: Age, dtype: float64"
      ]
     },
     "execution_count": 20,
     "metadata": {},
     "output_type": "execute_result"
    }
   ],
   "source": [
    "new_df[\"Age\"]"
   ]
  },
  {
   "cell_type": "code",
   "execution_count": 21,
   "id": "34fcdd86-0ff1-4050-adc3-0c05a56b0f2a",
   "metadata": {},
   "outputs": [
    {
     "data": {
      "text/html": [
       "<div>\n",
       "<style scoped>\n",
       "    .dataframe tbody tr th:only-of-type {\n",
       "        vertical-align: middle;\n",
       "    }\n",
       "\n",
       "    .dataframe tbody tr th {\n",
       "        vertical-align: top;\n",
       "    }\n",
       "\n",
       "    .dataframe thead th {\n",
       "        text-align: right;\n",
       "    }\n",
       "</style>\n",
       "<table border=\"1\" class=\"dataframe\">\n",
       "  <thead>\n",
       "    <tr style=\"text-align: right;\">\n",
       "      <th></th>\n",
       "      <th>Note</th>\n",
       "      <th>Age</th>\n",
       "      <th>Date</th>\n",
       "    </tr>\n",
       "  </thead>\n",
       "  <tbody>\n",
       "    <tr>\n",
       "      <th>Mert</th>\n",
       "      <td>1.151373</td>\n",
       "      <td>1.863684</td>\n",
       "      <td>-0.804387</td>\n",
       "    </tr>\n",
       "    <tr>\n",
       "      <th>Yiğit</th>\n",
       "      <td>-1.358546</td>\n",
       "      <td>-1.088243</td>\n",
       "      <td>0.819943</td>\n",
       "    </tr>\n",
       "    <tr>\n",
       "      <th>Can</th>\n",
       "      <td>-0.765840</td>\n",
       "      <td>1.089268</td>\n",
       "      <td>-1.081030</td>\n",
       "    </tr>\n",
       "    <tr>\n",
       "      <th>Berk</th>\n",
       "      <td>0.189238</td>\n",
       "      <td>-0.712875</td>\n",
       "      <td>1.284012</td>\n",
       "    </tr>\n",
       "  </tbody>\n",
       "</table>\n",
       "</div>"
      ],
      "text/plain": [
       "           Note       Age      Date\n",
       "Mert   1.151373  1.863684 -0.804387\n",
       "Yiğit -1.358546 -1.088243  0.819943\n",
       "Can   -0.765840  1.089268 -1.081030\n",
       "Berk   0.189238 -0.712875  1.284012"
      ]
     },
     "execution_count": 21,
     "metadata": {},
     "output_type": "execute_result"
    }
   ],
   "source": [
    "new_df"
   ]
  },
  {
   "cell_type": "code",
   "execution_count": 22,
   "id": "0594f4ca-30b4-4049-b89e-ed918615af3e",
   "metadata": {},
   "outputs": [
    {
     "data": {
      "text/html": [
       "<div>\n",
       "<style scoped>\n",
       "    .dataframe tbody tr th:only-of-type {\n",
       "        vertical-align: middle;\n",
       "    }\n",
       "\n",
       "    .dataframe tbody tr th {\n",
       "        vertical-align: top;\n",
       "    }\n",
       "\n",
       "    .dataframe thead th {\n",
       "        text-align: right;\n",
       "    }\n",
       "</style>\n",
       "<table border=\"1\" class=\"dataframe\">\n",
       "  <thead>\n",
       "    <tr style=\"text-align: right;\">\n",
       "      <th></th>\n",
       "      <th>Age</th>\n",
       "      <th>Note</th>\n",
       "    </tr>\n",
       "  </thead>\n",
       "  <tbody>\n",
       "    <tr>\n",
       "      <th>Mert</th>\n",
       "      <td>1.863684</td>\n",
       "      <td>1.151373</td>\n",
       "    </tr>\n",
       "    <tr>\n",
       "      <th>Yiğit</th>\n",
       "      <td>-1.088243</td>\n",
       "      <td>-1.358546</td>\n",
       "    </tr>\n",
       "    <tr>\n",
       "      <th>Can</th>\n",
       "      <td>1.089268</td>\n",
       "      <td>-0.765840</td>\n",
       "    </tr>\n",
       "    <tr>\n",
       "      <th>Berk</th>\n",
       "      <td>-0.712875</td>\n",
       "      <td>0.189238</td>\n",
       "    </tr>\n",
       "  </tbody>\n",
       "</table>\n",
       "</div>"
      ],
      "text/plain": [
       "            Age      Note\n",
       "Mert   1.863684  1.151373\n",
       "Yiğit -1.088243 -1.358546\n",
       "Can    1.089268 -0.765840\n",
       "Berk  -0.712875  0.189238"
      ]
     },
     "execution_count": 22,
     "metadata": {},
     "output_type": "execute_result"
    }
   ],
   "source": [
    "new_df[[\"Age\",\"Note\"]]"
   ]
  },
  {
   "cell_type": "code",
   "execution_count": 24,
   "id": "ed8bba74-b289-4f4e-8277-d0253476d04a",
   "metadata": {},
   "outputs": [
    {
     "data": {
      "text/plain": [
       "Note   -1.358546\n",
       "Age    -1.088243\n",
       "Date    0.819943\n",
       "Name: Yiğit, dtype: float64"
      ]
     },
     "execution_count": 24,
     "metadata": {},
     "output_type": "execute_result"
    }
   ],
   "source": [
    "new_df.loc[\"Yiğit\"]\n",
    "#row için"
   ]
  },
  {
   "cell_type": "code",
   "execution_count": 26,
   "id": "3d18a9af-1828-4c36-a273-1f32e172b795",
   "metadata": {},
   "outputs": [
    {
     "data": {
      "text/plain": [
       "Mert     1.863684\n",
       "Yiğit   -1.088243\n",
       "Can      1.089268\n",
       "Berk    -0.712875\n",
       "Name: Age, dtype: float64"
      ]
     },
     "execution_count": 26,
     "metadata": {},
     "output_type": "execute_result"
    }
   ],
   "source": [
    "new_df.iloc[:,1]\n",
    "#bütün rowları seç"
   ]
  },
  {
   "cell_type": "code",
   "execution_count": 27,
   "id": "f08141e3-500c-4758-84bb-e87853d90549",
   "metadata": {},
   "outputs": [],
   "source": [
    "new_df[\"Col\"]=12"
   ]
  },
  {
   "cell_type": "code",
   "execution_count": 28,
   "id": "9f878571-70a5-4c09-9866-416bdb2ef254",
   "metadata": {},
   "outputs": [
    {
     "data": {
      "text/html": [
       "<div>\n",
       "<style scoped>\n",
       "    .dataframe tbody tr th:only-of-type {\n",
       "        vertical-align: middle;\n",
       "    }\n",
       "\n",
       "    .dataframe tbody tr th {\n",
       "        vertical-align: top;\n",
       "    }\n",
       "\n",
       "    .dataframe thead th {\n",
       "        text-align: right;\n",
       "    }\n",
       "</style>\n",
       "<table border=\"1\" class=\"dataframe\">\n",
       "  <thead>\n",
       "    <tr style=\"text-align: right;\">\n",
       "      <th></th>\n",
       "      <th>Note</th>\n",
       "      <th>Age</th>\n",
       "      <th>Date</th>\n",
       "      <th>Col</th>\n",
       "    </tr>\n",
       "  </thead>\n",
       "  <tbody>\n",
       "    <tr>\n",
       "      <th>Mert</th>\n",
       "      <td>1.151373</td>\n",
       "      <td>1.863684</td>\n",
       "      <td>-0.804387</td>\n",
       "      <td>12</td>\n",
       "    </tr>\n",
       "    <tr>\n",
       "      <th>Yiğit</th>\n",
       "      <td>-1.358546</td>\n",
       "      <td>-1.088243</td>\n",
       "      <td>0.819943</td>\n",
       "      <td>12</td>\n",
       "    </tr>\n",
       "    <tr>\n",
       "      <th>Can</th>\n",
       "      <td>-0.765840</td>\n",
       "      <td>1.089268</td>\n",
       "      <td>-1.081030</td>\n",
       "      <td>12</td>\n",
       "    </tr>\n",
       "    <tr>\n",
       "      <th>Berk</th>\n",
       "      <td>0.189238</td>\n",
       "      <td>-0.712875</td>\n",
       "      <td>1.284012</td>\n",
       "      <td>12</td>\n",
       "    </tr>\n",
       "  </tbody>\n",
       "</table>\n",
       "</div>"
      ],
      "text/plain": [
       "           Note       Age      Date  Col\n",
       "Mert   1.151373  1.863684 -0.804387   12\n",
       "Yiğit -1.358546 -1.088243  0.819943   12\n",
       "Can   -0.765840  1.089268 -1.081030   12\n",
       "Berk   0.189238 -0.712875  1.284012   12"
      ]
     },
     "execution_count": 28,
     "metadata": {},
     "output_type": "execute_result"
    }
   ],
   "source": [
    "new_df"
   ]
  },
  {
   "cell_type": "code",
   "execution_count": 30,
   "id": "2e43515e-79f9-4a4f-876d-89207aed30f8",
   "metadata": {},
   "outputs": [
    {
     "data": {
      "text/html": [
       "<div>\n",
       "<style scoped>\n",
       "    .dataframe tbody tr th:only-of-type {\n",
       "        vertical-align: middle;\n",
       "    }\n",
       "\n",
       "    .dataframe tbody tr th {\n",
       "        vertical-align: top;\n",
       "    }\n",
       "\n",
       "    .dataframe thead th {\n",
       "        text-align: right;\n",
       "    }\n",
       "</style>\n",
       "<table border=\"1\" class=\"dataframe\">\n",
       "  <thead>\n",
       "    <tr style=\"text-align: right;\">\n",
       "      <th></th>\n",
       "      <th>Note</th>\n",
       "      <th>Age</th>\n",
       "      <th>Date</th>\n",
       "    </tr>\n",
       "  </thead>\n",
       "  <tbody>\n",
       "    <tr>\n",
       "      <th>Mert</th>\n",
       "      <td>1.151373</td>\n",
       "      <td>1.863684</td>\n",
       "      <td>-0.804387</td>\n",
       "    </tr>\n",
       "    <tr>\n",
       "      <th>Yiğit</th>\n",
       "      <td>-1.358546</td>\n",
       "      <td>-1.088243</td>\n",
       "      <td>0.819943</td>\n",
       "    </tr>\n",
       "    <tr>\n",
       "      <th>Can</th>\n",
       "      <td>-0.765840</td>\n",
       "      <td>1.089268</td>\n",
       "      <td>-1.081030</td>\n",
       "    </tr>\n",
       "    <tr>\n",
       "      <th>Berk</th>\n",
       "      <td>0.189238</td>\n",
       "      <td>-0.712875</td>\n",
       "      <td>1.284012</td>\n",
       "    </tr>\n",
       "  </tbody>\n",
       "</table>\n",
       "</div>"
      ],
      "text/plain": [
       "           Note       Age      Date\n",
       "Mert   1.151373  1.863684 -0.804387\n",
       "Yiğit -1.358546 -1.088243  0.819943\n",
       "Can   -0.765840  1.089268 -1.081030\n",
       "Berk   0.189238 -0.712875  1.284012"
      ]
     },
     "execution_count": 30,
     "metadata": {},
     "output_type": "execute_result"
    }
   ],
   "source": [
    "new_df.drop(\"Col\",axis=1)\n",
    "#axis=0 → satırlar üzerinde işlem yapar (index’e göre).\n",
    "#axis=1 → sütunlar üzerinde işlem yapar (column’a göre)."
   ]
  },
  {
   "cell_type": "code",
   "execution_count": 35,
   "id": "a13514fe-0129-4c57-9eef-6ca3fc50eba7",
   "metadata": {},
   "outputs": [],
   "source": [
    "new_df[\"Col\"]=12"
   ]
  },
  {
   "cell_type": "code",
   "execution_count": 36,
   "id": "e1039c9e-3ddf-4eb7-9413-84ee933e3805",
   "metadata": {},
   "outputs": [],
   "source": [
    "new_df.drop(\"Col\",axis=1,inplace=True)\n",
    "#inplace=False → güvenli, çünkü orijinal veri bozulmaz.\n",
    "#inplace=True → doğrudan değiştirir, fazladan atama yapmana gerek kalmaz."
   ]
  },
  {
   "cell_type": "code",
   "execution_count": 37,
   "id": "e4942efd-0858-4ba8-aca2-5bd4eed50e23",
   "metadata": {},
   "outputs": [
    {
     "data": {
      "text/html": [
       "<div>\n",
       "<style scoped>\n",
       "    .dataframe tbody tr th:only-of-type {\n",
       "        vertical-align: middle;\n",
       "    }\n",
       "\n",
       "    .dataframe tbody tr th {\n",
       "        vertical-align: top;\n",
       "    }\n",
       "\n",
       "    .dataframe thead th {\n",
       "        text-align: right;\n",
       "    }\n",
       "</style>\n",
       "<table border=\"1\" class=\"dataframe\">\n",
       "  <thead>\n",
       "    <tr style=\"text-align: right;\">\n",
       "      <th></th>\n",
       "      <th>Note</th>\n",
       "      <th>Age</th>\n",
       "      <th>Date</th>\n",
       "    </tr>\n",
       "  </thead>\n",
       "  <tbody>\n",
       "    <tr>\n",
       "      <th>Mert</th>\n",
       "      <td>1.151373</td>\n",
       "      <td>1.863684</td>\n",
       "      <td>-0.804387</td>\n",
       "    </tr>\n",
       "    <tr>\n",
       "      <th>Yiğit</th>\n",
       "      <td>-1.358546</td>\n",
       "      <td>-1.088243</td>\n",
       "      <td>0.819943</td>\n",
       "    </tr>\n",
       "    <tr>\n",
       "      <th>Can</th>\n",
       "      <td>-0.765840</td>\n",
       "      <td>1.089268</td>\n",
       "      <td>-1.081030</td>\n",
       "    </tr>\n",
       "    <tr>\n",
       "      <th>Berk</th>\n",
       "      <td>0.189238</td>\n",
       "      <td>-0.712875</td>\n",
       "      <td>1.284012</td>\n",
       "    </tr>\n",
       "  </tbody>\n",
       "</table>\n",
       "</div>"
      ],
      "text/plain": [
       "           Note       Age      Date\n",
       "Mert   1.151373  1.863684 -0.804387\n",
       "Yiğit -1.358546 -1.088243  0.819943\n",
       "Can   -0.765840  1.089268 -1.081030\n",
       "Berk   0.189238 -0.712875  1.284012"
      ]
     },
     "execution_count": 37,
     "metadata": {},
     "output_type": "execute_result"
    }
   ],
   "source": [
    "new_df"
   ]
  },
  {
   "cell_type": "code",
   "execution_count": 39,
   "id": "83496b16-10c8-49bf-94a6-82ef440e813e",
   "metadata": {},
   "outputs": [
    {
     "data": {
      "text/plain": [
       "np.float64(1.86368419523792)"
      ]
     },
     "execution_count": 39,
     "metadata": {},
     "output_type": "execute_result"
    }
   ],
   "source": [
    "new_df.loc[\"Mert\"][\"Age\"]"
   ]
  },
  {
   "cell_type": "code",
   "execution_count": 40,
   "id": "e8a0617a-bd95-4d5f-a9ed-791a5146f2e8",
   "metadata": {},
   "outputs": [
    {
     "data": {
      "text/plain": [
       "np.float64(1.86368419523792)"
      ]
     },
     "execution_count": 40,
     "metadata": {},
     "output_type": "execute_result"
    }
   ],
   "source": [
    "new_df.loc[\"Mert\",\"Age\"]"
   ]
  },
  {
   "cell_type": "code",
   "execution_count": 41,
   "id": "53bd18d1-c4ef-4e51-9b16-2c25360f5c5c",
   "metadata": {},
   "outputs": [],
   "source": [
    "new_df.loc[\"Mert\",\"Age\"]=250"
   ]
  },
  {
   "cell_type": "code",
   "execution_count": 42,
   "id": "98e515e1-222e-4eca-b143-46f45db17634",
   "metadata": {},
   "outputs": [
    {
     "data": {
      "text/html": [
       "<div>\n",
       "<style scoped>\n",
       "    .dataframe tbody tr th:only-of-type {\n",
       "        vertical-align: middle;\n",
       "    }\n",
       "\n",
       "    .dataframe tbody tr th {\n",
       "        vertical-align: top;\n",
       "    }\n",
       "\n",
       "    .dataframe thead th {\n",
       "        text-align: right;\n",
       "    }\n",
       "</style>\n",
       "<table border=\"1\" class=\"dataframe\">\n",
       "  <thead>\n",
       "    <tr style=\"text-align: right;\">\n",
       "      <th></th>\n",
       "      <th>Note</th>\n",
       "      <th>Age</th>\n",
       "      <th>Date</th>\n",
       "    </tr>\n",
       "  </thead>\n",
       "  <tbody>\n",
       "    <tr>\n",
       "      <th>Mert</th>\n",
       "      <td>1.151373</td>\n",
       "      <td>250.000000</td>\n",
       "      <td>-0.804387</td>\n",
       "    </tr>\n",
       "    <tr>\n",
       "      <th>Yiğit</th>\n",
       "      <td>-1.358546</td>\n",
       "      <td>-1.088243</td>\n",
       "      <td>0.819943</td>\n",
       "    </tr>\n",
       "    <tr>\n",
       "      <th>Can</th>\n",
       "      <td>-0.765840</td>\n",
       "      <td>1.089268</td>\n",
       "      <td>-1.081030</td>\n",
       "    </tr>\n",
       "    <tr>\n",
       "      <th>Berk</th>\n",
       "      <td>0.189238</td>\n",
       "      <td>-0.712875</td>\n",
       "      <td>1.284012</td>\n",
       "    </tr>\n",
       "  </tbody>\n",
       "</table>\n",
       "</div>"
      ],
      "text/plain": [
       "           Note         Age      Date\n",
       "Mert   1.151373  250.000000 -0.804387\n",
       "Yiğit -1.358546   -1.088243  0.819943\n",
       "Can   -0.765840    1.089268 -1.081030\n",
       "Berk   0.189238   -0.712875  1.284012"
      ]
     },
     "execution_count": 42,
     "metadata": {},
     "output_type": "execute_result"
    }
   ],
   "source": [
    "new_df"
   ]
  },
  {
   "cell_type": "code",
   "execution_count": 43,
   "id": "3e2a1d84-3527-4e36-bf24-e26ea20e3911",
   "metadata": {},
   "outputs": [
    {
     "data": {
      "text/html": [
       "<div>\n",
       "<style scoped>\n",
       "    .dataframe tbody tr th:only-of-type {\n",
       "        vertical-align: middle;\n",
       "    }\n",
       "\n",
       "    .dataframe tbody tr th {\n",
       "        vertical-align: top;\n",
       "    }\n",
       "\n",
       "    .dataframe thead th {\n",
       "        text-align: right;\n",
       "    }\n",
       "</style>\n",
       "<table border=\"1\" class=\"dataframe\">\n",
       "  <thead>\n",
       "    <tr style=\"text-align: right;\">\n",
       "      <th></th>\n",
       "      <th>Note</th>\n",
       "      <th>Age</th>\n",
       "      <th>Date</th>\n",
       "    </tr>\n",
       "  </thead>\n",
       "  <tbody>\n",
       "    <tr>\n",
       "      <th>Mert</th>\n",
       "      <td>True</td>\n",
       "      <td>True</td>\n",
       "      <td>False</td>\n",
       "    </tr>\n",
       "    <tr>\n",
       "      <th>Yiğit</th>\n",
       "      <td>False</td>\n",
       "      <td>False</td>\n",
       "      <td>True</td>\n",
       "    </tr>\n",
       "    <tr>\n",
       "      <th>Can</th>\n",
       "      <td>False</td>\n",
       "      <td>True</td>\n",
       "      <td>False</td>\n",
       "    </tr>\n",
       "    <tr>\n",
       "      <th>Berk</th>\n",
       "      <td>True</td>\n",
       "      <td>False</td>\n",
       "      <td>True</td>\n",
       "    </tr>\n",
       "  </tbody>\n",
       "</table>\n",
       "</div>"
      ],
      "text/plain": [
       "        Note    Age   Date\n",
       "Mert    True   True  False\n",
       "Yiğit  False  False   True\n",
       "Can    False   True  False\n",
       "Berk    True  False   True"
      ]
     },
     "execution_count": 43,
     "metadata": {},
     "output_type": "execute_result"
    }
   ],
   "source": [
    "new_df > 0"
   ]
  },
  {
   "cell_type": "code",
   "execution_count": 44,
   "id": "48d4057c-3801-43b2-ae25-28769a4625a0",
   "metadata": {},
   "outputs": [
    {
     "data": {
      "text/html": [
       "<div>\n",
       "<style scoped>\n",
       "    .dataframe tbody tr th:only-of-type {\n",
       "        vertical-align: middle;\n",
       "    }\n",
       "\n",
       "    .dataframe tbody tr th {\n",
       "        vertical-align: top;\n",
       "    }\n",
       "\n",
       "    .dataframe thead th {\n",
       "        text-align: right;\n",
       "    }\n",
       "</style>\n",
       "<table border=\"1\" class=\"dataframe\">\n",
       "  <thead>\n",
       "    <tr style=\"text-align: right;\">\n",
       "      <th></th>\n",
       "      <th>Note</th>\n",
       "      <th>Age</th>\n",
       "      <th>Date</th>\n",
       "    </tr>\n",
       "  </thead>\n",
       "  <tbody>\n",
       "    <tr>\n",
       "      <th>Mert</th>\n",
       "      <td>1.151373</td>\n",
       "      <td>250.000000</td>\n",
       "      <td>NaN</td>\n",
       "    </tr>\n",
       "    <tr>\n",
       "      <th>Yiğit</th>\n",
       "      <td>NaN</td>\n",
       "      <td>NaN</td>\n",
       "      <td>0.819943</td>\n",
       "    </tr>\n",
       "    <tr>\n",
       "      <th>Can</th>\n",
       "      <td>NaN</td>\n",
       "      <td>1.089268</td>\n",
       "      <td>NaN</td>\n",
       "    </tr>\n",
       "    <tr>\n",
       "      <th>Berk</th>\n",
       "      <td>0.189238</td>\n",
       "      <td>NaN</td>\n",
       "      <td>1.284012</td>\n",
       "    </tr>\n",
       "  </tbody>\n",
       "</table>\n",
       "</div>"
      ],
      "text/plain": [
       "           Note         Age      Date\n",
       "Mert   1.151373  250.000000       NaN\n",
       "Yiğit       NaN         NaN  0.819943\n",
       "Can         NaN    1.089268       NaN\n",
       "Berk   0.189238         NaN  1.284012"
      ]
     },
     "execution_count": 44,
     "metadata": {},
     "output_type": "execute_result"
    }
   ],
   "source": [
    "new_df[new_df >0 ]"
   ]
  },
  {
   "cell_type": "code",
   "execution_count": 45,
   "id": "28de84a8-8296-411f-909d-b17ea42d172d",
   "metadata": {},
   "outputs": [
    {
     "data": {
      "text/html": [
       "<div>\n",
       "<style scoped>\n",
       "    .dataframe tbody tr th:only-of-type {\n",
       "        vertical-align: middle;\n",
       "    }\n",
       "\n",
       "    .dataframe tbody tr th {\n",
       "        vertical-align: top;\n",
       "    }\n",
       "\n",
       "    .dataframe thead th {\n",
       "        text-align: right;\n",
       "    }\n",
       "</style>\n",
       "<table border=\"1\" class=\"dataframe\">\n",
       "  <thead>\n",
       "    <tr style=\"text-align: right;\">\n",
       "      <th></th>\n",
       "      <th>Note</th>\n",
       "      <th>Age</th>\n",
       "      <th>Date</th>\n",
       "    </tr>\n",
       "  </thead>\n",
       "  <tbody>\n",
       "    <tr>\n",
       "      <th>Mert</th>\n",
       "      <td>1.151373</td>\n",
       "      <td>250.0</td>\n",
       "      <td>-0.804387</td>\n",
       "    </tr>\n",
       "  </tbody>\n",
       "</table>\n",
       "</div>"
      ],
      "text/plain": [
       "          Note    Age      Date\n",
       "Mert  1.151373  250.0 -0.804387"
      ]
     },
     "execution_count": 45,
     "metadata": {},
     "output_type": "execute_result"
    }
   ],
   "source": [
    "new_df[new_df[\"Note\"]>1]"
   ]
  },
  {
   "cell_type": "code",
   "execution_count": 48,
   "id": "52bcaaaf-7679-4b4c-84c6-1d3c8d3f12cf",
   "metadata": {},
   "outputs": [],
   "source": [
    "new_df.reset_index(inplace=True)"
   ]
  },
  {
   "cell_type": "code",
   "execution_count": 49,
   "id": "07a035a0-3f1c-4c50-96a7-d020bbf1d055",
   "metadata": {},
   "outputs": [
    {
     "data": {
      "text/html": [
       "<div>\n",
       "<style scoped>\n",
       "    .dataframe tbody tr th:only-of-type {\n",
       "        vertical-align: middle;\n",
       "    }\n",
       "\n",
       "    .dataframe tbody tr th {\n",
       "        vertical-align: top;\n",
       "    }\n",
       "\n",
       "    .dataframe thead th {\n",
       "        text-align: right;\n",
       "    }\n",
       "</style>\n",
       "<table border=\"1\" class=\"dataframe\">\n",
       "  <thead>\n",
       "    <tr style=\"text-align: right;\">\n",
       "      <th></th>\n",
       "      <th>index</th>\n",
       "      <th>Note</th>\n",
       "      <th>Age</th>\n",
       "      <th>Date</th>\n",
       "    </tr>\n",
       "  </thead>\n",
       "  <tbody>\n",
       "    <tr>\n",
       "      <th>0</th>\n",
       "      <td>Mert</td>\n",
       "      <td>1.151373</td>\n",
       "      <td>250.000000</td>\n",
       "      <td>-0.804387</td>\n",
       "    </tr>\n",
       "    <tr>\n",
       "      <th>1</th>\n",
       "      <td>Yiğit</td>\n",
       "      <td>-1.358546</td>\n",
       "      <td>-1.088243</td>\n",
       "      <td>0.819943</td>\n",
       "    </tr>\n",
       "    <tr>\n",
       "      <th>2</th>\n",
       "      <td>Can</td>\n",
       "      <td>-0.765840</td>\n",
       "      <td>1.089268</td>\n",
       "      <td>-1.081030</td>\n",
       "    </tr>\n",
       "    <tr>\n",
       "      <th>3</th>\n",
       "      <td>Berk</td>\n",
       "      <td>0.189238</td>\n",
       "      <td>-0.712875</td>\n",
       "      <td>1.284012</td>\n",
       "    </tr>\n",
       "  </tbody>\n",
       "</table>\n",
       "</div>"
      ],
      "text/plain": [
       "   index      Note         Age      Date\n",
       "0   Mert  1.151373  250.000000 -0.804387\n",
       "1  Yiğit -1.358546   -1.088243  0.819943\n",
       "2    Can -0.765840    1.089268 -1.081030\n",
       "3   Berk  0.189238   -0.712875  1.284012"
      ]
     },
     "execution_count": 49,
     "metadata": {},
     "output_type": "execute_result"
    }
   ],
   "source": [
    "new_df"
   ]
  },
  {
   "cell_type": "code",
   "execution_count": 52,
   "id": "6c0e7d07-c8f3-40d9-9b95-90606d52082b",
   "metadata": {},
   "outputs": [],
   "source": [
    "new_index=[\"z\",\"E\",\"A\",\"b\"]"
   ]
  },
  {
   "cell_type": "code",
   "execution_count": 56,
   "id": "c3b8798d-bb58-4cc2-befa-eda6dcca8b5d",
   "metadata": {},
   "outputs": [],
   "source": [
    "new_df[\"NewIndex\"]=new_index"
   ]
  },
  {
   "cell_type": "code",
   "execution_count": 57,
   "id": "fa0f1b97-5271-4d51-836d-f1f562f19e21",
   "metadata": {},
   "outputs": [
    {
     "data": {
      "text/html": [
       "<div>\n",
       "<style scoped>\n",
       "    .dataframe tbody tr th:only-of-type {\n",
       "        vertical-align: middle;\n",
       "    }\n",
       "\n",
       "    .dataframe tbody tr th {\n",
       "        vertical-align: top;\n",
       "    }\n",
       "\n",
       "    .dataframe thead th {\n",
       "        text-align: right;\n",
       "    }\n",
       "</style>\n",
       "<table border=\"1\" class=\"dataframe\">\n",
       "  <thead>\n",
       "    <tr style=\"text-align: right;\">\n",
       "      <th></th>\n",
       "      <th>index</th>\n",
       "      <th>Note</th>\n",
       "      <th>Age</th>\n",
       "      <th>Date</th>\n",
       "      <th>newIndex</th>\n",
       "      <th>NewIndex</th>\n",
       "    </tr>\n",
       "  </thead>\n",
       "  <tbody>\n",
       "    <tr>\n",
       "      <th>0</th>\n",
       "      <td>Mert</td>\n",
       "      <td>1.151373</td>\n",
       "      <td>250.000000</td>\n",
       "      <td>-0.804387</td>\n",
       "      <td>z</td>\n",
       "      <td>z</td>\n",
       "    </tr>\n",
       "    <tr>\n",
       "      <th>1</th>\n",
       "      <td>Yiğit</td>\n",
       "      <td>-1.358546</td>\n",
       "      <td>-1.088243</td>\n",
       "      <td>0.819943</td>\n",
       "      <td>E</td>\n",
       "      <td>E</td>\n",
       "    </tr>\n",
       "    <tr>\n",
       "      <th>2</th>\n",
       "      <td>Can</td>\n",
       "      <td>-0.765840</td>\n",
       "      <td>1.089268</td>\n",
       "      <td>-1.081030</td>\n",
       "      <td>A</td>\n",
       "      <td>A</td>\n",
       "    </tr>\n",
       "    <tr>\n",
       "      <th>3</th>\n",
       "      <td>Berk</td>\n",
       "      <td>0.189238</td>\n",
       "      <td>-0.712875</td>\n",
       "      <td>1.284012</td>\n",
       "      <td>b</td>\n",
       "      <td>b</td>\n",
       "    </tr>\n",
       "  </tbody>\n",
       "</table>\n",
       "</div>"
      ],
      "text/plain": [
       "   index      Note         Age      Date newIndex NewIndex\n",
       "0   Mert  1.151373  250.000000 -0.804387        z        z\n",
       "1  Yiğit -1.358546   -1.088243  0.819943        E        E\n",
       "2    Can -0.765840    1.089268 -1.081030        A        A\n",
       "3   Berk  0.189238   -0.712875  1.284012        b        b"
      ]
     },
     "execution_count": 57,
     "metadata": {},
     "output_type": "execute_result"
    }
   ],
   "source": [
    "new_df"
   ]
  },
  {
   "cell_type": "code",
   "execution_count": 58,
   "id": "6eec65f8-9d08-418e-8c81-6845d716dab3",
   "metadata": {},
   "outputs": [],
   "source": [
    "new_df.set_index(\"NewIndex\",inplace=True)"
   ]
  },
  {
   "cell_type": "code",
   "execution_count": 59,
   "id": "8bb6fbb1-9e7a-40b5-8a02-0da37263de4c",
   "metadata": {},
   "outputs": [
    {
     "data": {
      "text/html": [
       "<div>\n",
       "<style scoped>\n",
       "    .dataframe tbody tr th:only-of-type {\n",
       "        vertical-align: middle;\n",
       "    }\n",
       "\n",
       "    .dataframe tbody tr th {\n",
       "        vertical-align: top;\n",
       "    }\n",
       "\n",
       "    .dataframe thead th {\n",
       "        text-align: right;\n",
       "    }\n",
       "</style>\n",
       "<table border=\"1\" class=\"dataframe\">\n",
       "  <thead>\n",
       "    <tr style=\"text-align: right;\">\n",
       "      <th></th>\n",
       "      <th>index</th>\n",
       "      <th>Note</th>\n",
       "      <th>Age</th>\n",
       "      <th>Date</th>\n",
       "      <th>newIndex</th>\n",
       "    </tr>\n",
       "    <tr>\n",
       "      <th>NewIndex</th>\n",
       "      <th></th>\n",
       "      <th></th>\n",
       "      <th></th>\n",
       "      <th></th>\n",
       "      <th></th>\n",
       "    </tr>\n",
       "  </thead>\n",
       "  <tbody>\n",
       "    <tr>\n",
       "      <th>z</th>\n",
       "      <td>Mert</td>\n",
       "      <td>1.151373</td>\n",
       "      <td>250.000000</td>\n",
       "      <td>-0.804387</td>\n",
       "      <td>z</td>\n",
       "    </tr>\n",
       "    <tr>\n",
       "      <th>E</th>\n",
       "      <td>Yiğit</td>\n",
       "      <td>-1.358546</td>\n",
       "      <td>-1.088243</td>\n",
       "      <td>0.819943</td>\n",
       "      <td>E</td>\n",
       "    </tr>\n",
       "    <tr>\n",
       "      <th>A</th>\n",
       "      <td>Can</td>\n",
       "      <td>-0.765840</td>\n",
       "      <td>1.089268</td>\n",
       "      <td>-1.081030</td>\n",
       "      <td>A</td>\n",
       "    </tr>\n",
       "    <tr>\n",
       "      <th>b</th>\n",
       "      <td>Berk</td>\n",
       "      <td>0.189238</td>\n",
       "      <td>-0.712875</td>\n",
       "      <td>1.284012</td>\n",
       "      <td>b</td>\n",
       "    </tr>\n",
       "  </tbody>\n",
       "</table>\n",
       "</div>"
      ],
      "text/plain": [
       "          index      Note         Age      Date newIndex\n",
       "NewIndex                                                \n",
       "z          Mert  1.151373  250.000000 -0.804387        z\n",
       "E         Yiğit -1.358546   -1.088243  0.819943        E\n",
       "A           Can -0.765840    1.089268 -1.081030        A\n",
       "b          Berk  0.189238   -0.712875  1.284012        b"
      ]
     },
     "execution_count": 59,
     "metadata": {},
     "output_type": "execute_result"
    }
   ],
   "source": [
    "new_df"
   ]
  },
  {
   "cell_type": "code",
   "execution_count": 60,
   "id": "cba6ca00-6168-4c4c-a739-b6239803eb57",
   "metadata": {},
   "outputs": [],
   "source": [
    "#multi index birden fazla index olduğu durumlar"
   ]
  },
  {
   "cell_type": "code",
   "execution_count": 62,
   "id": "994b3ebb-8c22-432a-9ee6-183056416865",
   "metadata": {},
   "outputs": [],
   "source": [
    "first_index=[\"Mustafa\",\"Kemal\",\"Can\",\"Yiğit\"]"
   ]
  },
  {
   "cell_type": "code",
   "execution_count": 69,
   "id": "8f298b51-9ef1-4a3a-87d2-af3e5c4fc011",
   "metadata": {},
   "outputs": [],
   "source": [
    "inner_index=[\"Homer\",\"Bart\",\"Marge\",\"Adana\"]"
   ]
  },
  {
   "cell_type": "code",
   "execution_count": 70,
   "id": "ee1a3df3-3a86-49ae-9204-b0e574615e7d",
   "metadata": {},
   "outputs": [],
   "source": [
    "zipped_index=list(zip(first_index,inner_index))"
   ]
  },
  {
   "cell_type": "code",
   "execution_count": 71,
   "id": "addd2403-495a-46b5-985a-a3cda7d69455",
   "metadata": {},
   "outputs": [
    {
     "data": {
      "text/plain": [
       "[('Mustafa', 'Homer'), ('Kemal', 'Bart'), ('Can', 'Marge'), ('Yiğit', 'Adana')]"
      ]
     },
     "execution_count": 71,
     "metadata": {},
     "output_type": "execute_result"
    }
   ],
   "source": [
    "zipped_index"
   ]
  },
  {
   "cell_type": "code",
   "execution_count": 72,
   "id": "e710d736-d30b-4f7d-afeb-c11048acd6e6",
   "metadata": {},
   "outputs": [],
   "source": [
    "zipped_index=pd.MultiIndex.from_tuples(zipped_index)"
   ]
  },
  {
   "cell_type": "code",
   "execution_count": 73,
   "id": "0bc5bc26-1101-4a75-b3d7-c826acbe0c8e",
   "metadata": {},
   "outputs": [
    {
     "data": {
      "text/plain": [
       "MultiIndex([('Mustafa', 'Homer'),\n",
       "            (  'Kemal',  'Bart'),\n",
       "            (    'Can', 'Marge'),\n",
       "            (  'Yiğit', 'Adana')],\n",
       "           )"
      ]
     },
     "execution_count": 73,
     "metadata": {},
     "output_type": "execute_result"
    }
   ],
   "source": [
    "zipped_index"
   ]
  }
 ],
 "metadata": {
  "kernelspec": {
   "display_name": "Python 3 (ipykernel)",
   "language": "python",
   "name": "python3"
  },
  "language_info": {
   "codemirror_mode": {
    "name": "ipython",
    "version": 3
   },
   "file_extension": ".py",
   "mimetype": "text/x-python",
   "name": "python",
   "nbconvert_exporter": "python",
   "pygments_lexer": "ipython3",
   "version": "3.13.5"
  }
 },
 "nbformat": 4,
 "nbformat_minor": 5
}
