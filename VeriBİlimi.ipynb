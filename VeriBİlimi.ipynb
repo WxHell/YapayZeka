{
 "cells": [
  {
   "cell_type": "code",
   "execution_count": 1,
   "id": "f8f881a2-52d9-4556-8932-4f346b4b7037",
   "metadata": {},
   "outputs": [],
   "source": [
    "import numpy as np"
   ]
  },
  {
   "cell_type": "code",
   "execution_count": 2,
   "id": "e0d85bec-b6a8-4405-8a07-0fa95ea9b13c",
   "metadata": {},
   "outputs": [],
   "source": [
    "my_list = [10,20,30,40]\n"
   ]
  },
  {
   "cell_type": "code",
   "execution_count": 4,
   "id": "8758c353-dfff-461c-ab4c-191838069901",
   "metadata": {},
   "outputs": [
    {
     "data": {
      "text/plain": [
       "array([10, 20, 30, 40])"
      ]
     },
     "execution_count": 4,
     "metadata": {},
     "output_type": "execute_result"
    }
   ],
   "source": [
    "np.array(my_list)"
   ]
  },
  {
   "cell_type": "code",
   "execution_count": 9,
   "id": "1061ddaa-c99b-4a5d-b5dd-5d804b2ef03e",
   "metadata": {},
   "outputs": [],
   "source": [
    "my_numpy_array = np.array(my_list)"
   ]
  },
  {
   "cell_type": "code",
   "execution_count": 10,
   "id": "09cb2faf-5d39-48ce-9d9b-e5cdd9246a41",
   "metadata": {},
   "outputs": [
    {
     "data": {
      "text/plain": [
       "40"
      ]
     },
     "execution_count": 10,
     "metadata": {},
     "output_type": "execute_result"
    }
   ],
   "source": [
    "int(my_numpy_array.max())"
   ]
  },
  {
   "cell_type": "code",
   "execution_count": 11,
   "id": "333c6270-a440-41e9-9767-4edd747c7310",
   "metadata": {},
   "outputs": [
    {
     "data": {
      "text/plain": [
       "np.int64(40)"
      ]
     },
     "execution_count": 11,
     "metadata": {},
     "output_type": "execute_result"
    }
   ],
   "source": [
    "my_numpy_array.max()"
   ]
  },
  {
   "cell_type": "code",
   "execution_count": 17,
   "id": "8339e5e5-0256-4ec6-b446-f0b438727666",
   "metadata": {},
   "outputs": [
    {
     "data": {
      "text/plain": [
       "array([1., 1., 1., 1., 1.])"
      ]
     },
     "execution_count": 17,
     "metadata": {},
     "output_type": "execute_result"
    }
   ],
   "source": [
    "np.ones(5)\n",
    "#içerisinde bir olan 5 sayı verioyr"
   ]
  },
  {
   "cell_type": "code",
   "execution_count": 16,
   "id": "1f382811-c804-4f4d-bab5-7ebc3145b6ec",
   "metadata": {},
   "outputs": [
    {
     "data": {
      "text/plain": [
       "array([0., 0., 0.])"
      ]
     },
     "execution_count": 16,
     "metadata": {},
     "output_type": "execute_result"
    }
   ],
   "source": [
    "np.zeros(3)\n",
    "#içerisinde 0 olan 3 sayı veriyor"
   ]
  },
  {
   "cell_type": "code",
   "execution_count": 15,
   "id": "a937dc1c-bedf-4aa9-8276-141b1584b09e",
   "metadata": {},
   "outputs": [
    {
     "data": {
      "text/plain": [
       "array([0.98684314, 0.33998472, 0.00389595, 0.43239387, 0.42057571,\n",
       "       0.88006113, 0.16475145, 0.46543176])"
      ]
     },
     "execution_count": 15,
     "metadata": {},
     "output_type": "execute_result"
    }
   ],
   "source": [
    "np.random.random(8)\n",
    "#rastgele 8 sayı oluşturuyor."
   ]
  },
  {
   "cell_type": "code",
   "execution_count": 18,
   "id": "9e7dc39e-9927-41ac-b653-27b8d4edde86",
   "metadata": {},
   "outputs": [],
   "source": [
    "#ones and zeros var olamasının nedeni matrix ve aritmetik işlerinin içine girmesinden dolayı kullanıyoruz"
   ]
  },
  {
   "cell_type": "code",
   "execution_count": 19,
   "id": "b8ce1eaa-28f6-4c95-81d0-7b0a9bdbddc6",
   "metadata": {},
   "outputs": [],
   "source": [
    "#array arithmetic"
   ]
  },
  {
   "cell_type": "code",
   "execution_count": 20,
   "id": "5f402d81-5b74-47e2-a35e-4a7bc5593085",
   "metadata": {},
   "outputs": [],
   "source": [
    "my_list1 = [1,2]"
   ]
  },
  {
   "cell_type": "code",
   "execution_count": 21,
   "id": "66cf78de-36a8-44fb-b4a4-d92e364de48b",
   "metadata": {},
   "outputs": [],
   "source": [
    "my_list2 = [2,3]"
   ]
  },
  {
   "cell_type": "code",
   "execution_count": 22,
   "id": "6f2b9e42-0439-458f-92a8-7ced5da20753",
   "metadata": {},
   "outputs": [
    {
     "data": {
      "text/plain": [
       "[1, 2, 2, 3]"
      ]
     },
     "execution_count": 22,
     "metadata": {},
     "output_type": "execute_result"
    }
   ],
   "source": [
    "my_list1 + my_list2"
   ]
  },
  {
   "cell_type": "code",
   "execution_count": 23,
   "id": "49a3e6c0-d54a-4863-af07-5582d69a69db",
   "metadata": {},
   "outputs": [],
   "source": [
    "my_numpy_array1=np.array(my_list1)"
   ]
  },
  {
   "cell_type": "code",
   "execution_count": 24,
   "id": "a7454e4b-2e14-4277-a7a4-244be631896d",
   "metadata": {},
   "outputs": [],
   "source": [
    "my_numpy_array2=np.array(my_list2)"
   ]
  },
  {
   "cell_type": "code",
   "execution_count": 25,
   "id": "9d9888af-b35e-4841-95da-1e6d8fe33af4",
   "metadata": {},
   "outputs": [
    {
     "data": {
      "text/plain": [
       "array([3, 5])"
      ]
     },
     "execution_count": 25,
     "metadata": {},
     "output_type": "execute_result"
    }
   ],
   "source": [
    "my_numpy_array1 + my_numpy_array2"
   ]
  },
  {
   "cell_type": "code",
   "execution_count": 26,
   "id": "e08f1d99-4d42-4f3e-b5b0-1c5effc7ba28",
   "metadata": {},
   "outputs": [],
   "source": [
    "#numpyde indeksler toplanarak yapılır"
   ]
  },
  {
   "cell_type": "code",
   "execution_count": 28,
   "id": "867e8507-29cc-4adc-bf24-7a9c8b2aec98",
   "metadata": {},
   "outputs": [],
   "source": [
    "np_array=np.array([10,20,30,40,])"
   ]
  },
  {
   "cell_type": "code",
   "execution_count": 29,
   "id": "dcc989ea-d6f8-45f6-b21d-415fd8ee105f",
   "metadata": {},
   "outputs": [
    {
     "data": {
      "text/plain": [
       "np.int64(40)"
      ]
     },
     "execution_count": 29,
     "metadata": {},
     "output_type": "execute_result"
    }
   ],
   "source": [
    "np_array.max()"
   ]
  },
  {
   "cell_type": "code",
   "execution_count": 33,
   "id": "1d8ce7a5-923e-4797-94be-e77683a78693",
   "metadata": {},
   "outputs": [
    {
     "data": {
      "text/plain": [
       "10"
      ]
     },
     "execution_count": 33,
     "metadata": {},
     "output_type": "execute_result"
    }
   ],
   "source": [
    "int(np_array.min())"
   ]
  },
  {
   "cell_type": "code",
   "execution_count": 35,
   "id": "911a6f05-f921-4485-8d63-65214471cf5c",
   "metadata": {},
   "outputs": [],
   "source": [
    "# arrange & indexing"
   ]
  },
  {
   "cell_type": "code",
   "execution_count": 37,
   "id": "481422be-2d47-4ec5-999c-3971e60c4f0e",
   "metadata": {},
   "outputs": [
    {
     "data": {
      "text/plain": [
       "array([0, 1, 2, 3, 4, 5, 6, 7, 8, 9])"
      ]
     },
     "execution_count": 37,
     "metadata": {},
     "output_type": "execute_result"
    }
   ],
   "source": [
    "np.arange(0,10)"
   ]
  },
  {
   "cell_type": "code",
   "execution_count": 38,
   "id": "e2bed5df-fd83-4e76-8e27-2329acc65979",
   "metadata": {},
   "outputs": [
    {
     "data": {
      "text/plain": [
       "array([ 0,  3,  6,  9, 12])"
      ]
     },
     "execution_count": 38,
     "metadata": {},
     "output_type": "execute_result"
    }
   ],
   "source": [
    "np.arange(0,15,3)"
   ]
  },
  {
   "cell_type": "code",
   "execution_count": 39,
   "id": "5a7159bb-3450-43ee-b085-e056335e2040",
   "metadata": {},
   "outputs": [],
   "source": [
    "np_array = np.arange(0,10)"
   ]
  },
  {
   "cell_type": "code",
   "execution_count": 40,
   "id": "880ce537-a5b5-4ffe-b6d2-6c42e0f1bb17",
   "metadata": {},
   "outputs": [
    {
     "data": {
      "text/plain": [
       "array([0, 2, 4, 6, 8])"
      ]
     },
     "execution_count": 40,
     "metadata": {},
     "output_type": "execute_result"
    }
   ],
   "source": [
    "np_array[0:10:2]"
   ]
  },
  {
   "cell_type": "code",
   "execution_count": 42,
   "id": "daabe943-939c-48f5-9c00-79e144b9e8e1",
   "metadata": {},
   "outputs": [
    {
     "data": {
      "text/plain": [
       "array([9, 8, 7, 6, 5, 4, 3, 2, 1, 0])"
      ]
     },
     "execution_count": 42,
     "metadata": {},
     "output_type": "execute_result"
    }
   ],
   "source": [
    "np_array[::-1]"
   ]
  },
  {
   "cell_type": "code",
   "execution_count": 45,
   "id": "8bfb3f26-020b-4575-aae5-401c99ec028c",
   "metadata": {},
   "outputs": [
    {
     "data": {
      "text/plain": [
       "array([ 1.93723017,  1.79989696, -2.02275127,  1.31417679,  0.70111646,\n",
       "        0.02567857])"
      ]
     },
     "execution_count": 45,
     "metadata": {},
     "output_type": "execute_result"
    }
   ],
   "source": [
    "np.random.randn(6)"
   ]
  },
  {
   "cell_type": "code",
   "execution_count": 46,
   "id": "0c1326f4-7ef3-4a52-b617-17b9d87d6392",
   "metadata": {},
   "outputs": [
    {
     "data": {
      "text/plain": [
       "array([[ 1.05065872, -0.42147913, -2.12094669],\n",
       "       [-0.028762  ,  0.87961727,  1.12494968],\n",
       "       [ 1.52634296, -0.96246962,  1.53216852]])"
      ]
     },
     "execution_count": 46,
     "metadata": {},
     "output_type": "execute_result"
    }
   ],
   "source": [
    "np.random.randn(3,3)"
   ]
  },
  {
   "cell_type": "code",
   "execution_count": 47,
   "id": "a9765d92-b60f-477e-9151-50c1c5e4bd03",
   "metadata": {},
   "outputs": [
    {
     "data": {
      "text/plain": [
       "array([ 15,  13, 135, 102], dtype=int32)"
      ]
     },
     "execution_count": 47,
     "metadata": {},
     "output_type": "execute_result"
    }
   ],
   "source": [
    "np.random.randint(1,200,4)"
   ]
  },
  {
   "cell_type": "code",
   "execution_count": null,
   "id": "264f3398-7b65-4a53-9858-b69ffd8a71db",
   "metadata": {},
   "outputs": [],
   "source": []
  }
 ],
 "metadata": {
  "kernelspec": {
   "display_name": "Python 3 (ipykernel)",
   "language": "python",
   "name": "python3"
  },
  "language_info": {
   "codemirror_mode": {
    "name": "ipython",
    "version": 3
   },
   "file_extension": ".py",
   "mimetype": "text/x-python",
   "name": "python",
   "nbconvert_exporter": "python",
   "pygments_lexer": "ipython3",
   "version": "3.13.5"
  }
 },
 "nbformat": 4,
 "nbformat_minor": 5
}
