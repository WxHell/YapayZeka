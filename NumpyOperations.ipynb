{
 "cells": [
  {
   "cell_type": "code",
   "execution_count": 2,
   "id": "f15d53e7-b839-477f-990f-39396ddda670",
   "metadata": {},
   "outputs": [],
   "source": [
    "import numpy as np"
   ]
  },
  {
   "cell_type": "code",
   "execution_count": 7,
   "id": "e2014657-c9ce-4967-98cc-87f7ede233d6",
   "metadata": {},
   "outputs": [],
   "source": [
    "new_array = np.random.randint(1,100,20)"
   ]
  },
  {
   "cell_type": "code",
   "execution_count": 8,
   "id": "8abfdf50-d00f-4c44-be8d-b80007dc18ee",
   "metadata": {},
   "outputs": [
    {
     "data": {
      "text/plain": [
       "array([18, 13, 14,  5, 97, 15, 48, 39, 72, 35, 81, 13, 26, 82, 64, 36, 16,\n",
       "       20, 80, 33], dtype=int32)"
      ]
     },
     "execution_count": 8,
     "metadata": {},
     "output_type": "execute_result"
    }
   ],
   "source": [
    "new_array"
   ]
  },
  {
   "cell_type": "code",
   "execution_count": 9,
   "id": "35a6c252-359c-4634-8e90-d3483b25c57e",
   "metadata": {},
   "outputs": [
    {
     "data": {
      "text/plain": [
       "array([ True,  True,  True, False,  True,  True,  True,  True,  True,\n",
       "        True,  True,  True,  True,  True,  True,  True,  True,  True,\n",
       "        True,  True])"
      ]
     },
     "execution_count": 9,
     "metadata": {},
     "output_type": "execute_result"
    }
   ],
   "source": [
    "new_array >10"
   ]
  },
  {
   "cell_type": "code",
   "execution_count": 10,
   "id": "4ac45171-1069-4a6c-b7ac-1ff1683fcda4",
   "metadata": {},
   "outputs": [
    {
     "data": {
      "text/plain": [
       "array([18, 13, 14, 97, 15, 48, 39, 72, 35, 81, 13, 26, 82, 64, 36, 16, 20,\n",
       "       80, 33], dtype=int32)"
      ]
     },
     "execution_count": 10,
     "metadata": {},
     "output_type": "execute_result"
    }
   ],
   "source": [
    "new_array[new_array >10]"
   ]
  },
  {
   "cell_type": "code",
   "execution_count": 11,
   "id": "94e05399-fcdd-453d-8657-60d00b0ba129",
   "metadata": {},
   "outputs": [],
   "source": [
    "#transpose & reshape"
   ]
  },
  {
   "cell_type": "code",
   "execution_count": 12,
   "id": "f1b4ed33-fc9a-4beb-bb4c-0bdbf893d80c",
   "metadata": {},
   "outputs": [],
   "source": [
    "matrix_array =  np.array([[10,20],[20,30],[30,40]])"
   ]
  },
  {
   "cell_type": "code",
   "execution_count": 13,
   "id": "bfde2e2d-7ed4-4e7d-8f9a-2f35678bf532",
   "metadata": {},
   "outputs": [
    {
     "data": {
      "text/plain": [
       "(3, 2)"
      ]
     },
     "execution_count": 13,
     "metadata": {},
     "output_type": "execute_result"
    }
   ],
   "source": [
    "matrix_array.shape\n"
   ]
  },
  {
   "cell_type": "code",
   "execution_count": 16,
   "id": "c16f6d60-7f4e-49dc-afbf-78671eaef6e2",
   "metadata": {},
   "outputs": [
    {
     "data": {
      "text/plain": [
       "array([[10, 20, 30],\n",
       "       [20, 30, 40]])"
      ]
     },
     "execution_count": 16,
     "metadata": {},
     "output_type": "execute_result"
    }
   ],
   "source": [
    "matrix_array.transpose()\n",
    "#rowlar ve kolonların yerini değiştiriyor"
   ]
  },
  {
   "cell_type": "code",
   "execution_count": 17,
   "id": "c3d42d6b-1613-4ba3-befd-573833c680b5",
   "metadata": {},
   "outputs": [
    {
     "data": {
      "text/plain": [
       "array([[10, 20, 30],\n",
       "       [20, 30, 40]])"
      ]
     },
     "execution_count": 17,
     "metadata": {},
     "output_type": "execute_result"
    }
   ],
   "source": [
    "matrix_array.T"
   ]
  },
  {
   "cell_type": "code",
   "execution_count": 18,
   "id": "3c96d8e8-87b7-4f3f-81e1-be9d143b8cee",
   "metadata": {},
   "outputs": [],
   "source": [
    "array2 = np.random.random((6,1))"
   ]
  },
  {
   "cell_type": "code",
   "execution_count": 19,
   "id": "7861a0b4-fd19-40e4-846f-c157d17b05a1",
   "metadata": {},
   "outputs": [
    {
     "data": {
      "text/plain": [
       "array([[0.07525021],\n",
       "       [0.67453277],\n",
       "       [0.55815666],\n",
       "       [0.68343316],\n",
       "       [0.88614057],\n",
       "       [0.82356702]])"
      ]
     },
     "execution_count": 19,
     "metadata": {},
     "output_type": "execute_result"
    }
   ],
   "source": [
    "array2"
   ]
  },
  {
   "cell_type": "code",
   "execution_count": 20,
   "id": "0bb2cedc-036a-4d60-a2d1-425c80b60311",
   "metadata": {},
   "outputs": [
    {
     "data": {
      "text/plain": [
       "(6, 1)"
      ]
     },
     "execution_count": 20,
     "metadata": {},
     "output_type": "execute_result"
    }
   ],
   "source": [
    "array2.shape\n"
   ]
  },
  {
   "cell_type": "code",
   "execution_count": 21,
   "id": "102c5c89-cf0b-40e9-ae07-49008a6aaba8",
   "metadata": {},
   "outputs": [
    {
     "data": {
      "text/plain": [
       "array([[0.07525021, 0.67453277, 0.55815666],\n",
       "       [0.68343316, 0.88614057, 0.82356702]])"
      ]
     },
     "execution_count": 21,
     "metadata": {},
     "output_type": "execute_result"
    }
   ],
   "source": [
    "array2.reshape(2,3)"
   ]
  },
  {
   "cell_type": "code",
   "execution_count": 22,
   "id": "220e8c65-f600-44bb-946d-fcd2263c5b27",
   "metadata": {},
   "outputs": [],
   "source": [
    "#matematik alıştırması"
   ]
  },
  {
   "cell_type": "code",
   "execution_count": 28,
   "id": "0061fa10-9828-406a-bf3c-b2432d8e291b",
   "metadata": {},
   "outputs": [],
   "source": [
    "#3x +5y = 23 ve 8x + 3y =49"
   ]
  },
  {
   "cell_type": "code",
   "execution_count": 27,
   "id": "722f6ac1-d10c-4b40-8e74-9bcb7229f67c",
   "metadata": {},
   "outputs": [],
   "source": [
    "x = np.array([[3,5],[8,3]])"
   ]
  },
  {
   "cell_type": "code",
   "execution_count": 26,
   "id": "337ac8fd-7348-4911-a2dd-d38f90a7728f",
   "metadata": {},
   "outputs": [],
   "source": [
    "y =np.array([23,49])"
   ]
  },
  {
   "cell_type": "code",
   "execution_count": 29,
   "id": "faee62c6-42eb-4290-bf7c-4f0392f59745",
   "metadata": {},
   "outputs": [],
   "source": [
    "result = np.linalg.solve(x,y)"
   ]
  },
  {
   "cell_type": "code",
   "execution_count": 30,
   "id": "5c414e5d-4c16-48a5-b8e1-ad1a121d790a",
   "metadata": {},
   "outputs": [
    {
     "data": {
      "text/plain": [
       "array([5.67741935, 1.19354839])"
      ]
     },
     "execution_count": 30,
     "metadata": {},
     "output_type": "execute_result"
    }
   ],
   "source": [
    "result"
   ]
  },
  {
   "cell_type": "code",
   "execution_count": null,
   "id": "2c5cb520-35de-4693-bc48-66a6d2a80246",
   "metadata": {},
   "outputs": [],
   "source": []
  }
 ],
 "metadata": {
  "kernelspec": {
   "display_name": "Python 3 (ipykernel)",
   "language": "python",
   "name": "python3"
  },
  "language_info": {
   "codemirror_mode": {
    "name": "ipython",
    "version": 3
   },
   "file_extension": ".py",
   "mimetype": "text/x-python",
   "name": "python",
   "nbconvert_exporter": "python",
   "pygments_lexer": "ipython3",
   "version": "3.13.5"
  }
 },
 "nbformat": 4,
 "nbformat_minor": 5
}
