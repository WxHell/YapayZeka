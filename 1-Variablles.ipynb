{
 "cells": [
  {
   "cell_type": "code",
   "execution_count": null,
   "id": "ef709dfe-2ee6-425c-a34b-9d9573e36b6b",
   "metadata": {},
   "outputs": [],
   "source": [
    "3 + 5"
   ]
  },
  {
   "cell_type": "code",
   "execution_count": null,
   "id": "ac32c15f-6fe7-468c-920e-67256b413598",
   "metadata": {},
   "outputs": [],
   "source": [
    "4 *3 "
   ]
  },
  {
   "cell_type": "code",
   "execution_count": null,
   "id": "8884992e-ea51-4aed-879e-56a2f0b3d449",
   "metadata": {},
   "outputs": [],
   "source": [
    "5**2"
   ]
  },
  {
   "cell_type": "code",
   "execution_count": null,
   "id": "f85a46ce-6089-4d14-98d8-cc4fca27dffe",
   "metadata": {},
   "outputs": [],
   "source": [
    "x =\"alper\"\n",
    "print(x)"
   ]
  },
  {
   "cell_type": "code",
   "execution_count": null,
   "id": "65f5f497-04a4-4f0d-afc0-3ee42a4f7dd6",
   "metadata": {},
   "outputs": [],
   "source": [
    "type(x)"
   ]
  },
  {
   "cell_type": "code",
   "execution_count": null,
   "id": "99b27aa3-fa92-4583-a814-55a60dc7592d",
   "metadata": {},
   "outputs": [],
   "source": [
    "\"hello world\"\n"
   ]
  },
  {
   "cell_type": "code",
   "execution_count": null,
   "id": "685c0cc3-8c60-4afd-8500-399348dabcc1",
   "metadata": {},
   "outputs": [],
   "source": [
    "print(\"hello world\")"
   ]
  },
  {
   "cell_type": "code",
   "execution_count": null,
   "id": "3ef9644c-6b5c-41c9-8ee6-240e91dab42f",
   "metadata": {},
   "outputs": [],
   "source": [
    "name=\"alper berk\""
   ]
  },
  {
   "cell_type": "code",
   "execution_count": null,
   "id": "efd3cfda-565a-4a20-9d30-74bbb72a032c",
   "metadata": {},
   "outputs": [],
   "source": [
    "type(name)"
   ]
  },
  {
   "cell_type": "code",
   "execution_count": null,
   "id": "5abc2017-efc1-4b7f-90c2-faef2872e9f5",
   "metadata": {},
   "outputs": [],
   "source": [
    "name.capitalize()"
   ]
  },
  {
   "cell_type": "code",
   "execution_count": null,
   "id": "a783cbb6-2f98-4c3e-a747-f07bcbe02eb8",
   "metadata": {},
   "outputs": [],
   "source": [
    "y = 20"
   ]
  },
  {
   "cell_type": "code",
   "execution_count": null,
   "id": "fe0059d4-35c8-4d35-9669-0bc0efd70ed1",
   "metadata": {},
   "outputs": [],
   "source": [
    "y"
   ]
  },
  {
   "cell_type": "code",
   "execution_count": null,
   "id": "ba13a1e6-4907-4529-98d0-d959893b2ad9",
   "metadata": {},
   "outputs": [],
   "source": [
    "name.upper()"
   ]
  },
  {
   "cell_type": "code",
   "execution_count": null,
   "id": "77d5421c-c5e0-462c-ba2a-065c7ff098bc",
   "metadata": {},
   "outputs": [],
   "source": [
    "name.endswith(\"k\")"
   ]
  },
  {
   "cell_type": "code",
   "execution_count": null,
   "id": "459b8455-13f4-424d-9bb2-fb41934a7219",
   "metadata": {},
   "outputs": [],
   "source": [
    "help(name.encode())\n"
   ]
  },
  {
   "cell_type": "code",
   "execution_count": null,
   "id": "5947531d-b02e-4a31-b973-d881b73a062c",
   "metadata": {},
   "outputs": [],
   "source": [
    "name.count(\"a\")"
   ]
  },
  {
   "cell_type": "code",
   "execution_count": null,
   "id": "e059c79b-b292-435c-9a52-28ca22032a21",
   "metadata": {},
   "outputs": [],
   "source": [
    "new_name = name.upper()"
   ]
  },
  {
   "cell_type": "code",
   "execution_count": null,
   "id": "fc4b993c-9900-47b0-977f-c9c1a13666b4",
   "metadata": {},
   "outputs": [],
   "source": [
    "print(new_name)"
   ]
  },
  {
   "cell_type": "code",
   "execution_count": null,
   "id": "2d3581a6-2c89-455d-ab20-6087ae9a7f71",
   "metadata": {},
   "outputs": [],
   "source": [
    "len(new_name)"
   ]
  },
  {
   "cell_type": "code",
   "execution_count": null,
   "id": "6fc24c5a-883d-4bae-9661-17cf4872dc27",
   "metadata": {},
   "outputs": [],
   "source": [
    "print(\"Alper \\nBerk\")"
   ]
  },
  {
   "cell_type": "code",
   "execution_count": null,
   "id": "d7600cd2-79c6-4b6f-a0d5-880e9f10b5e5",
   "metadata": {},
   "outputs": [],
   "source": [
    "# \\n ->new line bu tarz karakterlere escape characters denir\n",
    "# \\t ->arasında bir tablık boşluk bırakır"
   ]
  },
  {
   "cell_type": "markdown",
   "id": "d73ad974-83f7-4bc9-8ffe-ed33d2e3f6eb",
   "metadata": {},
   "source": [
    "## İndex\n"
   ]
  },
  {
   "cell_type": "code",
   "execution_count": null,
   "id": "e2a0959f-89a1-414b-9491-caad26ef4e6b",
   "metadata": {},
   "outputs": [],
   "source": [
    "my_String=\"World\""
   ]
  },
  {
   "cell_type": "code",
   "execution_count": null,
   "id": "e18dcf15-7b0b-44a9-a1bf-4fcf409fb41a",
   "metadata": {},
   "outputs": [],
   "source": [
    "my_String[-1]\n"
   ]
  },
  {
   "cell_type": "markdown",
   "id": "0e3029e1-9760-4b58-a36f-3960b121aa13",
   "metadata": {},
   "source": [
    "my_String = my_String[:3] + \"b\" + my_String[4:]\n",
    "print(my_String)"
   ]
  },
  {
   "cell_type": "code",
   "execution_count": null,
   "id": "e6967509-2182-4022-8906-f43c3f10274a",
   "metadata": {},
   "outputs": [],
   "source": [
    "my_Name = \"alper berk kömpe\""
   ]
  },
  {
   "cell_type": "code",
   "execution_count": null,
   "id": "9eda00ad-8b3a-4b78-a25e-63f7a8b7d55e",
   "metadata": {},
   "outputs": [],
   "source": [
    "my_Name[len(my_Name)-1]"
   ]
  },
  {
   "cell_type": "code",
   "execution_count": null,
   "id": "681a87d6-1574-42d7-8ae4-ea7303e22732",
   "metadata": {},
   "outputs": [],
   "source": [
    "Barcode = \"ADNAW2331AKRKL\""
   ]
  },
  {
   "cell_type": "code",
   "execution_count": null,
   "id": "0b6e4bb4-423a-4b7c-a5ae-3ae4eb89e6dd",
   "metadata": {},
   "outputs": [],
   "source": [
    "w=\"A\"+\"B\"\n",
    "print(w)"
   ]
  },
  {
   "cell_type": "code",
   "execution_count": null,
   "id": "6cbc97e9-0ab3-4d74-95b2-aa402e0145d5",
   "metadata": {},
   "outputs": [],
   "source": [
    "name = \"Mert\"\n",
    "surName=\"Yılmaz\"\n",
    "fullName = name + \" \" + surName"
   ]
  },
  {
   "cell_type": "code",
   "execution_count": null,
   "id": "e570412c-9130-4268-b11c-4adf1b5e8a86",
   "metadata": {},
   "outputs": [],
   "source": [
    "fullName"
   ]
  },
  {
   "cell_type": "markdown",
   "id": "2cf60044-7bc6-4595-8c53-8abd14e453cf",
   "metadata": {},
   "source": [
    "## slicing, starting index,stopping index,stepping index"
   ]
  },
  {
   "cell_type": "code",
   "execution_count": null,
   "id": "6c45be85-8d81-4753-bce9-5c7dec8e6c96",
   "metadata": {},
   "outputs": [],
   "source": [
    "Barcode[1:4:2]\n"
   ]
  },
  {
   "cell_type": "code",
   "execution_count": null,
   "id": "b5b9d2a2-821c-4b67-971e-8d2bd1375324",
   "metadata": {},
   "outputs": [],
   "source": [
    "Barcode[3::]"
   ]
  },
  {
   "cell_type": "code",
   "execution_count": null,
   "id": "a1e2a503-90f9-4e4c-af45-8e890b0b5e41",
   "metadata": {},
   "outputs": [],
   "source": [
    "Barcode[::-1]\n"
   ]
  },
  {
   "cell_type": "code",
   "execution_count": null,
   "id": "d02ad5b6-753d-427e-8600-696cc4e1f03c",
   "metadata": {},
   "outputs": [],
   "source": [
    "Barcode[:5:]"
   ]
  },
  {
   "cell_type": "code",
   "execution_count": null,
   "id": "bba36f9f-57d4-4525-847a-1b1c7683f1e6",
   "metadata": {},
   "outputs": [],
   "source": [
    "fullName.index(\"m\")"
   ]
  },
  {
   "cell_type": "code",
   "execution_count": null,
   "id": "2f5720b6-6a40-4b7a-803b-e8a54ca05a24",
   "metadata": {},
   "outputs": [],
   "source": [
    "fullName.split()"
   ]
  },
  {
   "cell_type": "code",
   "execution_count": null,
   "id": "6e1ca5a2-4288-474f-ae76-cc6151b65da4",
   "metadata": {},
   "outputs": [],
   "source": [
    "type(fullName.split())"
   ]
  },
  {
   "cell_type": "code",
   "execution_count": null,
   "id": "25df2a98-7d9e-4daa-a08c-a0b8d600d736",
   "metadata": {},
   "outputs": [],
   "source": [
    "myList=[10,20,30]\n"
   ]
  },
  {
   "cell_type": "code",
   "execution_count": null,
   "id": "5d8a2c0d-e1df-465a-899a-a7e7d984c6ee",
   "metadata": {},
   "outputs": [],
   "source": [
    "myList.insert(2,35)"
   ]
  },
  {
   "cell_type": "code",
   "execution_count": null,
   "id": "2d028c4e-fe49-4650-9942-0db70eab062d",
   "metadata": {},
   "outputs": [],
   "source": [
    "myList"
   ]
  },
  {
   "cell_type": "code",
   "execution_count": null,
   "id": "68cf2700-49a5-4ee1-a838-9036761c4ab2",
   "metadata": {},
   "outputs": [],
   "source": [
    "myList.append(13)"
   ]
  },
  {
   "cell_type": "code",
   "execution_count": null,
   "id": "fbadaa00-626f-489e-848c-cf2a51ce8b3e",
   "metadata": {},
   "outputs": [],
   "source": [
    "myList"
   ]
  },
  {
   "cell_type": "code",
   "execution_count": null,
   "id": "afecbb1d-1aad-4545-b05a-56f94c2edeab",
   "metadata": {},
   "outputs": [],
   "source": [
    "myList.pop()"
   ]
  },
  {
   "cell_type": "code",
   "execution_count": null,
   "id": "60f3d978-be18-47e8-970e-d3a82aa4cecb",
   "metadata": {},
   "outputs": [],
   "source": [
    "myInt = 12\n"
   ]
  },
  {
   "cell_type": "code",
   "execution_count": null,
   "id": "9c74f53b-aae4-402d-a4ad-05fbbe34e9d9",
   "metadata": {},
   "outputs": [],
   "source": [
    "str(myInt)"
   ]
  },
  {
   "cell_type": "code",
   "execution_count": null,
   "id": "23e4b87f-e122-440c-80d9-401474d2e569",
   "metadata": {},
   "outputs": [],
   "source": [
    "float(myInt)"
   ]
  },
  {
   "cell_type": "code",
   "execution_count": null,
   "id": "10587467-a584-43bd-bdd1-d93cd54f5612",
   "metadata": {},
   "outputs": [],
   "source": [
    "tryList = [12,13,14]"
   ]
  },
  {
   "cell_type": "code",
   "execution_count": null,
   "id": "a1efa869-f2f2-457e-ab43-eebfc45a4b7a",
   "metadata": {},
   "outputs": [],
   "source": [
    "int(tryList[1]*2)"
   ]
  },
  {
   "cell_type": "code",
   "execution_count": null,
   "id": "b6ef3d39-6bb9-4943-8eba-13de50f39972",
   "metadata": {},
   "outputs": [],
   "source": [
    "fruitCalories = {\"Banana\":200,\"apple\":50}"
   ]
  },
  {
   "cell_type": "code",
   "execution_count": null,
   "id": "0b195611-6b0d-4837-bc3a-73afe0384160",
   "metadata": {},
   "outputs": [],
   "source": [
    "fruitCalories"
   ]
  },
  {
   "cell_type": "code",
   "execution_count": null,
   "id": "89041e16-0104-4f76-b17b-4e481269a115",
   "metadata": {},
   "outputs": [],
   "source": [
    "fruitCalories.keys()"
   ]
  },
  {
   "cell_type": "code",
   "execution_count": null,
   "id": "5f141101-3fe2-4567-965b-0733286d8e2a",
   "metadata": {},
   "outputs": [],
   "source": [
    "fruitCalories.items()"
   ]
  },
  {
   "cell_type": "code",
   "execution_count": null,
   "id": "a3e9158d-75ff-4bb8-b6e6-8c25db61f284",
   "metadata": {},
   "outputs": [],
   "source": [
    "fruitCalories[\"Banana\"]"
   ]
  },
  {
   "cell_type": "code",
   "execution_count": null,
   "id": "e7949313-4ad2-41d0-826e-25c441d9a888",
   "metadata": {},
   "outputs": [],
   "source": [
    "list(fruitCalories.values())"
   ]
  },
  {
   "cell_type": "code",
   "execution_count": null,
   "id": "6623c5e3-9bf5-4ec8-80d2-f9732cae045f",
   "metadata": {},
   "outputs": [],
   "source": [
    "furitCalories[\"melon\"]=250"
   ]
  },
  {
   "cell_type": "code",
   "execution_count": null,
   "id": "013a3c09-debf-4de2-b6e2-47a2e0ea03cd",
   "metadata": {},
   "outputs": [],
   "source": [
    "fruitCalories.get(\"armut\",0)"
   ]
  },
  {
   "cell_type": "code",
   "execution_count": null,
   "id": "5c3a972f-a8de-49cd-911d-da65de350591",
   "metadata": {},
   "outputs": [],
   "source": [
    "## armut olmadığı için sıfır veriyor bu kodlar"
   ]
  },
  {
   "cell_type": "code",
   "execution_count": null,
   "id": "455d3ec6-55fc-4178-b7fc-ca8ee536c98f",
   "metadata": {},
   "outputs": [],
   "source": [
    "fruitCalories.get(\"apple\",0)"
   ]
  },
  {
   "cell_type": "code",
   "execution_count": null,
   "id": "30954b4d-fed9-4b05-b2fd-1a3ed5234e9c",
   "metadata": {},
   "outputs": [],
   "source": [
    "example={\"k1\":10,\"k2\":[10,20,30],\"k3\":\"string\",\"k4\":{\"a\":100,\"b\":200}}"
   ]
  },
  {
   "cell_type": "code",
   "execution_count": null,
   "id": "e2cbb72a-c50f-454b-b872-dc133e1bcaf3",
   "metadata": {},
   "outputs": [],
   "source": [
    "example[\"k2\"][1]"
   ]
  },
  {
   "cell_type": "code",
   "execution_count": null,
   "id": "219e48d9-fb27-4aba-b126-bd0a0c8e53d2",
   "metadata": {},
   "outputs": [],
   "source": [
    "example[\"k4\"][\"b\"]"
   ]
  },
  {
   "cell_type": "code",
   "execution_count": null,
   "id": "6e951df4-54fa-4707-b69d-cce367bf8c24",
   "metadata": {},
   "outputs": [],
   "source": [
    "my_newList=[1,2,3,1,2,3]\n"
   ]
  },
  {
   "cell_type": "code",
   "execution_count": null,
   "id": "6dc14513-fb9f-480c-8da4-6f708bec1eae",
   "metadata": {},
   "outputs": [],
   "source": [
    "my_setList=set(my_newList)"
   ]
  },
  {
   "cell_type": "code",
   "execution_count": null,
   "id": "e715831d-7881-4c17-861f-9d0740894997",
   "metadata": {},
   "outputs": [],
   "source": [
    "my_setList"
   ]
  },
  {
   "cell_type": "code",
   "execution_count": null,
   "id": "2291c959-dbfc-477a-8ae3-c1b29df66176",
   "metadata": {},
   "outputs": [],
   "source": [
    "mySet={10,20,30,10,20,30}"
   ]
  },
  {
   "cell_type": "code",
   "execution_count": null,
   "id": "e9d98e20-0ad7-4af1-97ac-dbadb2d78421",
   "metadata": {},
   "outputs": [],
   "source": [
    "mySet"
   ]
  },
  {
   "cell_type": "code",
   "execution_count": null,
   "id": "034a640e-4295-40e8-9069-4d552e230c29",
   "metadata": {},
   "outputs": [],
   "source": [
    "mySet.add(20)\n",
    "mySet"
   ]
  },
  {
   "cell_type": "code",
   "execution_count": null,
   "id": "dbeffc4e-7f96-4ed2-b7ff-11333662b73b",
   "metadata": {},
   "outputs": [],
   "source": [
    "mySet.add(300)\n",
    "mySet"
   ]
  },
  {
   "cell_type": "code",
   "execution_count": null,
   "id": "3207ef1e-24bb-4efa-88f0-fa79fa62a9a5",
   "metadata": {},
   "outputs": [],
   "source": [
    "my_List=[\"aa\",120,\"b\",\"c\"]\n"
   ]
  },
  {
   "cell_type": "code",
   "execution_count": null,
   "id": "844bbde5-f408-4839-b58d-d2e6266e2edd",
   "metadata": {},
   "outputs": [],
   "source": [
    "for liste in my_List:\n",
    "    print(liste)"
   ]
  },
  {
   "cell_type": "code",
   "execution_count": null,
   "id": "0b80d58e-2ada-4af7-ae0e-b7434ec2a182",
   "metadata": {},
   "outputs": [],
   "source": [
    "for i in my_Name:\n",
    "    print(i)\n"
   ]
  },
  {
   "cell_type": "code",
   "execution_count": null,
   "id": "ecbb815b-f721-4e93-bf53-77dd64f6313c",
   "metadata": {},
   "outputs": [],
   "source": [
    "my_tuple = (10,20,30,40,50)"
   ]
  },
  {
   "cell_type": "code",
   "execution_count": null,
   "id": "f64297f4-cf9c-45f2-8d54-ffa86bd01e1a",
   "metadata": {},
   "outputs": [],
   "source": [
    "my_new_list = [(\"a\",\"b\"),(\"c\",\"d\"),(\"e\",\"f\"),(\"g\",\"h\")]"
   ]
  },
  {
   "cell_type": "code",
   "execution_count": null,
   "id": "246fb97f-d4db-4122-aa9f-05324e1d0987",
   "metadata": {},
   "outputs": [],
   "source": [
    "len(my_new_list)"
   ]
  },
  {
   "cell_type": "code",
   "execution_count": null,
   "id": "36743878-7bec-4cb6-be72-763b8364742b",
   "metadata": {},
   "outputs": [],
   "source": [
    "my_new_list[0]"
   ]
  },
  {
   "cell_type": "code",
   "execution_count": null,
   "id": "6626400b-5fce-488d-9bfc-fafb2fdff9d9",
   "metadata": {},
   "outputs": [],
   "source": [
    "for element in my_new_list:\n",
    "    print(element)"
   ]
  },
  {
   "cell_type": "code",
   "execution_count": null,
   "id": "ade75018-6d26-46dc-883c-f1407d8786f1",
   "metadata": {},
   "outputs": [],
   "source": [
    "#tuple unpacking"
   ]
  },
  {
   "cell_type": "code",
   "execution_count": null,
   "id": "6dc36901-f388-4667-a947-d82976b28dd3",
   "metadata": {},
   "outputs": [],
   "source": [
    "my_new_list[0][1]"
   ]
  },
  {
   "cell_type": "code",
   "execution_count": null,
   "id": "dc3bd406-9987-433c-b196-8a4db048662c",
   "metadata": {},
   "outputs": [],
   "source": [
    "for (x,y) in my_new_list:\n",
    "    print(x,y)"
   ]
  },
  {
   "cell_type": "code",
   "execution_count": null,
   "id": "55198c9b-0e74-4977-821a-3851c73aa386",
   "metadata": {},
   "outputs": [],
   "source": [
    "for (x,y) in my_new_list:\n",
    "    print(x)"
   ]
  },
  {
   "cell_type": "code",
   "execution_count": null,
   "id": "4e90d4b1-bf2e-4d93-adfc-d5fe921a7bcb",
   "metadata": {},
   "outputs": [],
   "source": [
    "for (x,y) in my_new_list:\n",
    "    print(y)"
   ]
  },
  {
   "cell_type": "code",
   "execution_count": null,
   "id": "35966603-d04d-46ce-a268-932723e59fb0",
   "metadata": {},
   "outputs": [],
   "source": [
    "my_tuple_list = [(1,2,3),(4,5,6),(7,8,9)]"
   ]
  },
  {
   "cell_type": "code",
   "execution_count": null,
   "id": "88f0baaf-e62b-456e-87f4-99c7a9cc0494",
   "metadata": {},
   "outputs": [],
   "source": [
    "for (x,y,z) in my_tuple_list:\n",
    "    print(z)"
   ]
  },
  {
   "cell_type": "code",
   "execution_count": null,
   "id": "b202ccbd-6dae-45f0-8920-7448e9ece94e",
   "metadata": {},
   "outputs": [],
   "source": [
    "my_set = {1,2,3,4,5,6}"
   ]
  },
  {
   "cell_type": "code",
   "execution_count": null,
   "id": "33075cfc-8f57-4f7a-8963-e6040bba9feb",
   "metadata": {},
   "outputs": [],
   "source": [
    "len(my_set)"
   ]
  },
  {
   "cell_type": "code",
   "execution_count": null,
   "id": "0d63d67f-e556-40d3-a082-98737fefdb22",
   "metadata": {},
   "outputs": [],
   "source": [
    "type(my_set)"
   ]
  },
  {
   "cell_type": "code",
   "execution_count": null,
   "id": "fed94036-c4f1-49cb-a8a2-f8fbe9ee5f83",
   "metadata": {},
   "outputs": [],
   "source": [
    "for num in my_set:\n",
    "    print(num)"
   ]
  },
  {
   "cell_type": "code",
   "execution_count": null,
   "id": "0fc7494a-1db1-469a-a7f2-421f41a4aebd",
   "metadata": {},
   "outputs": [],
   "source": [
    "my_dicttionary = {\"k1\":100,\"k2\":200,\"k3\":300}"
   ]
  },
  {
   "cell_type": "code",
   "execution_count": null,
   "id": "fc4499c5-2b2b-42c5-81fc-099bde0f059e",
   "metadata": {},
   "outputs": [],
   "source": [
    "for element in my_dicttionary:\n",
    "    print(element)"
   ]
  },
  {
   "cell_type": "code",
   "execution_count": null,
   "id": "114f83fc-876f-4639-a21b-4cef535d8b4b",
   "metadata": {},
   "outputs": [],
   "source": [
    "for (key,value) in my_dicttionary.items():\n",
    "    print(value)"
   ]
  },
  {
   "cell_type": "code",
   "execution_count": null,
   "id": "0be1e5b1-8c33-4646-a8cd-254205fd04ab",
   "metadata": {},
   "outputs": [],
   "source": [
    "for (key,value) in my_dicttionary.items():\n",
    "    print(key)"
   ]
  },
  {
   "cell_type": "code",
   "execution_count": null,
   "id": "c55dfe94-073f-41d9-929e-ec9f4b324477",
   "metadata": {},
   "outputs": [],
   "source": [
    "for (key,value) in my_dicttionary.items():\n",
    "    print(key,value)"
   ]
  },
  {
   "cell_type": "code",
   "execution_count": null,
   "id": "4e22b0da-feb6-41f8-a5dd-bef4047d2c07",
   "metadata": {},
   "outputs": [],
   "source": [
    "for num in my_dicttionary.values():\n",
    "    print(num)"
   ]
  },
  {
   "cell_type": "code",
   "execution_count": null,
   "id": "475644b0-2a7e-4572-a483-dccabd2205fa",
   "metadata": {},
   "outputs": [],
   "source": [
    "#continue,break,pass"
   ]
  },
  {
   "cell_type": "code",
   "execution_count": null,
   "id": "cbd70f87-49a0-4d5a-a737-72ad77f9f973",
   "metadata": {},
   "outputs": [],
   "source": [
    "my_list2 =[10,20,30,40]"
   ]
  },
  {
   "cell_type": "code",
   "execution_count": null,
   "id": "de970485-5e35-41ea-b995-88a5336707cc",
   "metadata": {},
   "outputs": [],
   "source": [
    "40 in my_list2"
   ]
  },
  {
   "cell_type": "code",
   "execution_count": null,
   "id": "10777095-45d3-4c8c-a993-3e814d466fc3",
   "metadata": {},
   "outputs": [],
   "source": [
    "last_list=[10,20,30,40]"
   ]
  },
  {
   "cell_type": "code",
   "execution_count": null,
   "id": "b764a5ad-611b-4d98-a17b-5a7b9900b3bf",
   "metadata": {},
   "outputs": [],
   "source": [
    "while 20 in last_list:\n",
    "    print(\"20 last list item\")\n",
    "    last_list.pop()"
   ]
  },
  {
   "cell_type": "code",
   "execution_count": 2,
   "id": "edbf65f3-44ce-4c99-9aa5-6e806cf99e16",
   "metadata": {},
   "outputs": [
    {
     "name": "stdout",
     "output_type": "stream",
     "text": [
      "value of: $0\n",
      "value of: $1\n",
      "value of: $2\n",
      "value of: $3\n",
      "value of: $4\n",
      "value of: $5\n",
      "value of: $6\n",
      "value of: $7\n",
      "value of: $8\n",
      "value of: $9\n",
      "value of: $10\n",
      "value of: $11\n",
      "value of: $12\n",
      "value of: $13\n",
      "value of: $14\n",
      "value of: $15\n",
      "value of: $16\n",
      "value of: $17\n",
      "value of: $18\n",
      "value of: $19\n"
     ]
    }
   ],
   "source": [
    "p=0\n",
    "while p<20:\n",
    "    print(f\"value of: ${p}\")\n",
    "    p +=1"
   ]
  },
  {
   "cell_type": "code",
   "execution_count": 1,
   "id": "2786dd2c-eae3-4f4a-8562-dfcb4eebd35f",
   "metadata": {},
   "outputs": [
    {
     "data": {
      "text/plain": [
       "range(0, 50)"
      ]
     },
     "execution_count": 1,
     "metadata": {},
     "output_type": "execute_result"
    }
   ],
   "source": [
    "range(50)"
   ]
  },
  {
   "cell_type": "code",
   "execution_count": null,
   "id": "d127c265-374d-4b3c-abef-d4107be593e8",
   "metadata": {},
   "outputs": [],
   "source": [
    "list(range(10))"
   ]
  },
  {
   "cell_type": "code",
   "execution_count": 4,
   "id": "580d393f-a4c2-4a20-817d-940d0442d75d",
   "metadata": {},
   "outputs": [
    {
     "name": "stdout",
     "output_type": "stream",
     "text": [
      "0\n",
      "2\n",
      "4\n",
      "6\n",
      "8\n",
      "10\n",
      "12\n",
      "14\n",
      "16\n",
      "18\n"
     ]
    }
   ],
   "source": [
    "for num in list(range(10)):\n",
    "    print(num *2)"
   ]
  },
  {
   "cell_type": "code",
   "execution_count": 5,
   "id": "33dceb1b-d671-42cc-a982-c1ae30cc11a7",
   "metadata": {},
   "outputs": [
    {
     "data": {
      "text/plain": [
       "[5, 7, 9, 11, 13, 15, 17, 19, 21, 23]"
      ]
     },
     "execution_count": 5,
     "metadata": {},
     "output_type": "execute_result"
    }
   ],
   "source": [
    "list(range(5,25,2))"
   ]
  },
  {
   "cell_type": "code",
   "execution_count": 6,
   "id": "f3aa819a-0294-4939-a2fb-ac06c7a44b9b",
   "metadata": {},
   "outputs": [
    {
     "data": {
      "text/plain": [
       "[4,\n",
       " 5,\n",
       " 6,\n",
       " 7,\n",
       " 8,\n",
       " 9,\n",
       " 10,\n",
       " 11,\n",
       " 12,\n",
       " 13,\n",
       " 14,\n",
       " 15,\n",
       " 16,\n",
       " 17,\n",
       " 18,\n",
       " 19,\n",
       " 20,\n",
       " 21,\n",
       " 22,\n",
       " 23,\n",
       " 24,\n",
       " 25,\n",
       " 26,\n",
       " 27,\n",
       " 28,\n",
       " 29]"
      ]
     },
     "execution_count": 6,
     "metadata": {},
     "output_type": "execute_result"
    }
   ],
   "source": [
    "list(range(4,30))"
   ]
  },
  {
   "cell_type": "code",
   "execution_count": 7,
   "id": "9e1645d0-cc94-400b-95b5-af82d16e81ad",
   "metadata": {},
   "outputs": [],
   "source": [
    "my_liste=[10,20,30]"
   ]
  },
  {
   "cell_type": "code",
   "execution_count": 8,
   "id": "c7d63be6-67a8-4d4e-b0f9-55e284ce27d7",
   "metadata": {},
   "outputs": [
    {
     "name": "stdout",
     "output_type": "stream",
     "text": [
      "0\n",
      "1\n",
      "2\n"
     ]
    }
   ],
   "source": [
    "for liste in range(len(my_liste)):\n",
    "    print(liste)"
   ]
  },
  {
   "cell_type": "code",
   "execution_count": 9,
   "id": "b3f09fab-0039-4bd5-b959-c26a3eb33ab2",
   "metadata": {},
   "outputs": [
    {
     "name": "stdout",
     "output_type": "stream",
     "text": [
      "(0, 10)\n",
      "(1, 20)\n",
      "(2, 30)\n"
     ]
    }
   ],
   "source": [
    "for element in enumerate(my_liste):\n",
    "    print(element)"
   ]
  },
  {
   "cell_type": "code",
   "execution_count": 10,
   "id": "c37c6a7e-71c3-4fd0-94bf-dec1ffb8ca3b",
   "metadata": {},
   "outputs": [],
   "source": [
    "from random import randint"
   ]
  },
  {
   "cell_type": "code",
   "execution_count": 12,
   "id": "063707ea-ad1b-4415-9ee7-bfb21cf64e05",
   "metadata": {},
   "outputs": [
    {
     "data": {
      "text/plain": [
       "7"
      ]
     },
     "execution_count": 12,
     "metadata": {},
     "output_type": "execute_result"
    }
   ],
   "source": [
    "randint(0,100)"
   ]
  },
  {
   "cell_type": "code",
   "execution_count": 13,
   "id": "85c13991-809c-44b0-ba54-fbc344cec121",
   "metadata": {},
   "outputs": [
    {
     "data": {
      "text/plain": [
       "13"
      ]
     },
     "execution_count": 13,
     "metadata": {},
     "output_type": "execute_result"
    }
   ],
   "source": [
    "randint(0,100)\n"
   ]
  },
  {
   "cell_type": "code",
   "execution_count": 14,
   "id": "0d7e72a4-7c29-4d96-b9ee-b8b6b63f4b88",
   "metadata": {},
   "outputs": [],
   "source": [
    "from random import shuffle"
   ]
  },
  {
   "cell_type": "code",
   "execution_count": 15,
   "id": "cc5c84f0-fc50-417e-890a-e2bcb2e280db",
   "metadata": {},
   "outputs": [],
   "source": [
    "shuffle(my_liste)"
   ]
  },
  {
   "cell_type": "code",
   "execution_count": 16,
   "id": "0919ba4c-8369-4228-a508-7612f080eb99",
   "metadata": {},
   "outputs": [
    {
     "data": {
      "text/plain": [
       "[30, 10, 20]"
      ]
     },
     "execution_count": 16,
     "metadata": {},
     "output_type": "execute_result"
    }
   ],
   "source": [
    "my_liste"
   ]
  },
  {
   "cell_type": "code",
   "execution_count": 17,
   "id": "e0f80d26-2424-45f1-b176-8546d5aa026a",
   "metadata": {},
   "outputs": [
    {
     "data": {
      "text/plain": [
       "2"
      ]
     },
     "execution_count": 17,
     "metadata": {},
     "output_type": "execute_result"
    }
   ],
   "source": [
    "randint(0,len(my_liste))"
   ]
  },
  {
   "cell_type": "code",
   "execution_count": 18,
   "id": "23c3af4a-865b-443f-babc-f11a000f1e4b",
   "metadata": {},
   "outputs": [
    {
     "data": {
      "text/plain": [
       "30"
      ]
     },
     "execution_count": 18,
     "metadata": {},
     "output_type": "execute_result"
    }
   ],
   "source": [
    "my_liste[randint(0,len(my_liste))]"
   ]
  },
  {
   "cell_type": "code",
   "execution_count": 2,
   "id": "ef2ed8fe-5488-4c02-b2ac-ba20615ca934",
   "metadata": {},
   "outputs": [],
   "source": [
    "#zip"
   ]
  },
  {
   "cell_type": "code",
   "execution_count": 3,
   "id": "fdf33aa0-d89e-48cb-a907-e171bc7958e7",
   "metadata": {},
   "outputs": [],
   "source": [
    "food_list = [\"apple\",\"melon\",\"banana\"]"
   ]
  },
  {
   "cell_type": "code",
   "execution_count": 4,
   "id": "86c434de-04b1-4073-b4e0-1bcd3044a9c6",
   "metadata": {},
   "outputs": [],
   "source": [
    "calories_list=[100,120,130]"
   ]
  },
  {
   "cell_type": "code",
   "execution_count": 5,
   "id": "6cbab414-effb-49b1-bcbc-ef28861ef980",
   "metadata": {},
   "outputs": [],
   "source": [
    "day_list = [\"Monday\",\"Tuesday\",\"Wednesday\"]"
   ]
  },
  {
   "cell_type": "code",
   "execution_count": 8,
   "id": "502825d7-d141-408f-b25b-e6745f6cfb2a",
   "metadata": {},
   "outputs": [],
   "source": [
    "zipped_list=list(zip(food_list,calories_list,day_list))"
   ]
  },
  {
   "cell_type": "code",
   "execution_count": 9,
   "id": "cfe9f95b-48b6-425a-a8a9-c11958bd6752",
   "metadata": {},
   "outputs": [
    {
     "data": {
      "text/plain": [
       "[('apple', 100, 'Monday'),\n",
       " ('melon', 120, 'Tuesday'),\n",
       " ('banana', 130, 'Wednesday')]"
      ]
     },
     "execution_count": 9,
     "metadata": {},
     "output_type": "execute_result"
    }
   ],
   "source": [
    "zipped_list"
   ]
  },
  {
   "cell_type": "code",
   "execution_count": 13,
   "id": "86294f7c-8d8a-46a8-b35c-b254744d1a96",
   "metadata": {},
   "outputs": [],
   "source": [
    "new_list = []\n",
    "my_string=\"Metallica\""
   ]
  },
  {
   "cell_type": "code",
   "execution_count": 15,
   "id": "f7d26bbd-4d66-49a6-a137-f1a656e996ee",
   "metadata": {},
   "outputs": [],
   "source": [
    "for element in my_string:\n",
    "    new_list.append(element)"
   ]
  },
  {
   "cell_type": "code",
   "execution_count": 16,
   "id": "7d005935-c5d4-4551-ae72-98eae47dfd3a",
   "metadata": {},
   "outputs": [
    {
     "data": {
      "text/plain": [
       "['M', 'e', 't', 'a', 'l', 'l', 'i', 'c', 'a']"
      ]
     },
     "execution_count": 16,
     "metadata": {},
     "output_type": "execute_result"
    }
   ],
   "source": [
    "new_list"
   ]
  },
  {
   "cell_type": "code",
   "execution_count": 18,
   "id": "4aee5040-a1b5-4b28-9e1f-7b849100b3ae",
   "metadata": {},
   "outputs": [],
   "source": [
    "new_list = [element for element in my_string]"
   ]
  },
  {
   "cell_type": "code",
   "execution_count": 19,
   "id": "5f2db5ee-1369-4c5a-b7fc-9fea474db224",
   "metadata": {},
   "outputs": [
    {
     "data": {
      "text/plain": [
       "['M', 'e', 't', 'a', 'l', 'l', 'i', 'c', 'a']"
      ]
     },
     "execution_count": 19,
     "metadata": {},
     "output_type": "execute_result"
    }
   ],
   "source": [
    "new_list"
   ]
  },
  {
   "cell_type": "code",
   "execution_count": 20,
   "id": "718838d4-f6e1-447a-89b5-9ceb2faf58a8",
   "metadata": {},
   "outputs": [],
   "source": [
    "number_list = [10,20,30,40]"
   ]
  },
  {
   "cell_type": "code",
   "execution_count": 23,
   "id": "75d1812a-45e0-467d-9690-4c157ed09a80",
   "metadata": {},
   "outputs": [],
   "source": [
    "list_number = [number*3 for number in number_list]"
   ]
  },
  {
   "cell_type": "code",
   "execution_count": 24,
   "id": "e2666d82-a7a3-4a93-98fa-5fc487f1b454",
   "metadata": {},
   "outputs": [
    {
     "data": {
      "text/plain": [
       "[30, 60, 90, 120]"
      ]
     },
     "execution_count": 24,
     "metadata": {},
     "output_type": "execute_result"
    }
   ],
   "source": [
    "list_number"
   ]
  },
  {
   "cell_type": "markdown",
   "id": "69d8c31f-8bd3-4591-a15f-4ae4d5f226a8",
   "metadata": {},
   "source": [
    "## Method Ve Fonksiyonlar"
   ]
  },
  {
   "cell_type": "code",
   "execution_count": 25,
   "id": "bd9580ef-855a-483f-9304-599a8883a496",
   "metadata": {},
   "outputs": [],
   "source": [
    "def hello_python():\n",
    "    print(\"hello\")"
   ]
  },
  {
   "cell_type": "code",
   "execution_count": 27,
   "id": "c6772c65-58d8-42ed-973b-2ca1a82fa89e",
   "metadata": {},
   "outputs": [
    {
     "name": "stdout",
     "output_type": "stream",
     "text": [
      "hello\n"
     ]
    }
   ],
   "source": [
    "hello_python()"
   ]
  },
  {
   "cell_type": "code",
   "execution_count": 28,
   "id": "47669774-519a-48fd-9311-e8fb7bfad287",
   "metadata": {},
   "outputs": [],
   "source": [
    "def hello_name(name):\n",
    "    print(name)"
   ]
  },
  {
   "cell_type": "code",
   "execution_count": 30,
   "id": "fb86b4d1-5a36-41f8-bc81-827eb4e1546d",
   "metadata": {},
   "outputs": [
    {
     "name": "stdout",
     "output_type": "stream",
     "text": [
      "alper\n"
     ]
    }
   ],
   "source": [
    "hello_name(\"alper\")"
   ]
  },
  {
   "cell_type": "code",
   "execution_count": 31,
   "id": "8fcf95bb-ba47-4ea9-882e-08980a340f4e",
   "metadata": {},
   "outputs": [],
   "source": [
    "def hello_surname(surname=\"berk\"):\n",
    "    print(surname)"
   ]
  },
  {
   "cell_type": "code",
   "execution_count": 33,
   "id": "deabc98b-42ef-4ec9-817a-4fd8f3089efa",
   "metadata": {},
   "outputs": [
    {
     "name": "stdout",
     "output_type": "stream",
     "text": [
      "berk\n"
     ]
    }
   ],
   "source": [
    "hello_surname()"
   ]
  },
  {
   "cell_type": "code",
   "execution_count": 34,
   "id": "7d37dbd3-e5ac-45fe-b015-82d754250c64",
   "metadata": {},
   "outputs": [
    {
     "name": "stdout",
     "output_type": "stream",
     "text": [
      "yiğit\n"
     ]
    }
   ],
   "source": [
    "hello_surname(\"yiğit\")"
   ]
  },
  {
   "cell_type": "code",
   "execution_count": 37,
   "id": "a98fd075-a7a4-4231-8861-61c3cd54ed20",
   "metadata": {},
   "outputs": [],
   "source": [
    "def return_sum(num1,num2,num3):\n",
    "    result = num1+num2+num3\n",
    "    print(result)\n",
    "    return result"
   ]
  },
  {
   "cell_type": "code",
   "execution_count": 38,
   "id": "f7ccbe6a-76ba-4ba4-bf15-b1c9b6c5d578",
   "metadata": {},
   "outputs": [
    {
     "name": "stdout",
     "output_type": "stream",
     "text": [
      "6\n"
     ]
    }
   ],
   "source": [
    "x = return_sum(1,2,3)"
   ]
  },
  {
   "cell_type": "code",
   "execution_count": 41,
   "id": "e1ef80ef-73f6-40b7-9fbb-c0ce3de2cc38",
   "metadata": {},
   "outputs": [],
   "source": [
    "def control_string(s):\n",
    "    if s[0] ==\"a\":\n",
    "        print(\"a\")"
   ]
  },
  {
   "cell_type": "code",
   "execution_count": 42,
   "id": "3fa0a4bf-a522-4334-9586-e5b99e239631",
   "metadata": {},
   "outputs": [
    {
     "name": "stdout",
     "output_type": "stream",
     "text": [
      "a\n"
     ]
    }
   ],
   "source": [
    "control_string(\"alper\")"
   ]
  },
  {
   "cell_type": "code",
   "execution_count": 43,
   "id": "63fa1f32-fc6e-465b-ae35-4d5eb33bf323",
   "metadata": {},
   "outputs": [],
   "source": [
    "#args,kwargs"
   ]
  },
  {
   "cell_type": "code",
   "execution_count": 44,
   "id": "d1127509-c33d-4247-a149-e56375e9bf78",
   "metadata": {},
   "outputs": [],
   "source": [
    "def args_sum(*args):\n",
    "    return sum(args)"
   ]
  },
  {
   "cell_type": "code",
   "execution_count": 45,
   "id": "60634505-d9d3-447e-8f31-2d50cd7b57eb",
   "metadata": {},
   "outputs": [
    {
     "data": {
      "text/plain": [
       "100"
      ]
     },
     "execution_count": 45,
     "metadata": {},
     "output_type": "execute_result"
    }
   ],
   "source": [
    "args_sum(10,20,30,40)"
   ]
  },
  {
   "cell_type": "code",
   "execution_count": 46,
   "id": "ead37458-617d-4a52-9f1b-eaf90a48ec4d",
   "metadata": {},
   "outputs": [],
   "source": [
    "def args_print(*args):\n",
    "     print(args)"
   ]
  },
  {
   "cell_type": "code",
   "execution_count": 48,
   "id": "a466888c-4e3b-44f5-b29f-782fbd1633ad",
   "metadata": {},
   "outputs": [
    {
     "name": "stdout",
     "output_type": "stream",
     "text": [
      "(2, 3, 4, 5, 6, 7, 8, 'dada')\n"
     ]
    }
   ],
   "source": [
    "args_print(2,3,4,5,6,7,8,\"dada\")"
   ]
  },
  {
   "cell_type": "code",
   "execution_count": 49,
   "id": "fb6490d8-9fed-4255-adbf-372e224dcd43",
   "metadata": {},
   "outputs": [],
   "source": [
    "def kwargs_ex(**kwargs):\n",
    "    print(kwargs)"
   ]
  },
  {
   "cell_type": "code",
   "execution_count": 51,
   "id": "17f03df5-dc2a-4f0c-be0c-bdf4e2d7e702",
   "metadata": {},
   "outputs": [
    {
     "name": "stdout",
     "output_type": "stream",
     "text": [
      "{'elma': 100, 'marul': 200}\n"
     ]
    }
   ],
   "source": [
    "kwargs_ex(elma=100,marul=200)"
   ]
  },
  {
   "cell_type": "code",
   "execution_count": 52,
   "id": "a9428b02-3158-458c-8352-4e230e9c2a91",
   "metadata": {},
   "outputs": [],
   "source": [
    "#global\n",
    "myString = \"Alper\"\n",
    "\n",
    "def myFunction():\n",
    "    #Enclosing\n",
    "    myString=\"Alper2\"\n",
    "    print(myString)\n",
    "\n",
    "    def myFunction2():\n",
    "        #Local\n",
    "        myString=\"Alper3\"\n",
    "        print(myString)\n",
    "\n",
    "    myFunction2()"
   ]
  },
  {
   "cell_type": "code",
   "execution_count": 53,
   "id": "9b1c3346-8749-46c8-ae43-81c5766464f0",
   "metadata": {},
   "outputs": [
    {
     "data": {
      "text/plain": [
       "'Alper'"
      ]
     },
     "execution_count": 53,
     "metadata": {},
     "output_type": "execute_result"
    }
   ],
   "source": [
    "myString"
   ]
  },
  {
   "cell_type": "code",
   "execution_count": 54,
   "id": "b15e6fb6-3f1f-4796-a037-51acbc68d18d",
   "metadata": {},
   "outputs": [
    {
     "name": "stdout",
     "output_type": "stream",
     "text": [
      "Alper2\n",
      "Alper3\n"
     ]
    }
   ],
   "source": [
    "myFunction()"
   ]
  },
  {
   "cell_type": "code",
   "execution_count": 55,
   "id": "99159f27-d2d2-44dd-9841-fdc27db65c90",
   "metadata": {},
   "outputs": [],
   "source": [
    "y = 10\n",
    "def changeY():\n",
    "    global y\n",
    "    y=5\n",
    "    print(y)"
   ]
  },
  {
   "cell_type": "code",
   "execution_count": 56,
   "id": "5765e8a8-f1dd-4fcc-948e-dbaf3ab66ae5",
   "metadata": {},
   "outputs": [
    {
     "name": "stdout",
     "output_type": "stream",
     "text": [
      "5\n"
     ]
    }
   ],
   "source": [
    "changeY()"
   ]
  },
  {
   "cell_type": "markdown",
   "id": "f2abc79e-2ebb-4e05-b10c-1c148a70219f",
   "metadata": {},
   "source": [
    "## Class\n"
   ]
  },
  {
   "cell_type": "code",
   "execution_count": 92,
   "id": "5e5265fd-a322-4b52-aa9d-3df33d24c983",
   "metadata": {},
   "outputs": [],
   "source": [
    "class Person():\n",
    "    #property\n",
    "    #name=\"\"\n",
    "    #age=0\n",
    "    #gender=\"\"\n",
    "    \n",
    "    #method,initializer\n",
    "    def __init__(self,name,age,gender):\n",
    "        self.name=name\n",
    "        self.age=age\n",
    "        self.gender=gender  \n",
    "\n",
    "    def printName(self):\n",
    "        print(self.name)\n",
    "    "
   ]
  },
  {
   "cell_type": "code",
   "execution_count": 93,
   "id": "57c5f661-1c88-454e-820e-b79d5895a18b",
   "metadata": {},
   "outputs": [],
   "source": [
    "alper = Person(\"Alper\",24,\"Male\")"
   ]
  },
  {
   "cell_type": "code",
   "execution_count": 94,
   "id": "4324b5b2-04dc-42d4-9be5-927b9fa69d64",
   "metadata": {},
   "outputs": [
    {
     "data": {
      "text/plain": [
       "'Alper'"
      ]
     },
     "execution_count": 94,
     "metadata": {},
     "output_type": "execute_result"
    }
   ],
   "source": [
    "alper.name"
   ]
  },
  {
   "cell_type": "code",
   "execution_count": 95,
   "id": "382be27b-717a-40f8-8829-561c5fc9231c",
   "metadata": {},
   "outputs": [
    {
     "data": {
      "text/plain": [
       "24"
      ]
     },
     "execution_count": 95,
     "metadata": {},
     "output_type": "execute_result"
    }
   ],
   "source": [
    "alper.age"
   ]
  },
  {
   "cell_type": "code",
   "execution_count": 96,
   "id": "16773ec9-c1a3-4b79-a8f6-92dbf47795f1",
   "metadata": {},
   "outputs": [
    {
     "name": "stdout",
     "output_type": "stream",
     "text": [
      "Alper\n"
     ]
    }
   ],
   "source": [
    "alper.printName()"
   ]
  },
  {
   "cell_type": "code",
   "execution_count": 104,
   "id": "124e2b14-471a-4569-b10f-7fa38be37728",
   "metadata": {},
   "outputs": [],
   "source": [
    "class Musician():\n",
    "    #property\n",
    "    #name=\"\"\n",
    "    #age=0\n",
    "    #gender=\"\"\n",
    "    \n",
    "    #method,initializer\n",
    "    def __init__(self,name):\n",
    "        self.name=name\n",
    "        print(\"musician class\")\n",
    "    def test(self):\n",
    "        print(\"test1\")\n",
    "    def test2(self):\n",
    "        print(\"test2\")\n",
    "    "
   ]
  },
  {
   "cell_type": "code",
   "execution_count": 110,
   "id": "6b2e9629-b543-4a16-88a0-a296321a4997",
   "metadata": {},
   "outputs": [],
   "source": [
    "class MusicianPlus(Musician):\n",
    "    def __init__(self,name):\n",
    "        Musician.__init__(self,name)\n",
    "        print(\"Musician Plus\")\n",
    "    def test3(self):\n",
    "        print(\"test3\")\n",
    "    def test(self):\n",
    "        print(\"plus test1\")"
   ]
  },
  {
   "cell_type": "code",
   "execution_count": 111,
   "id": "1741aea9-a7f3-411a-add9-3c54045c6f2a",
   "metadata": {
    "scrolled": true
   },
   "outputs": [
    {
     "name": "stdout",
     "output_type": "stream",
     "text": [
      "musician class\n",
      "Musician Plus\n"
     ]
    }
   ],
   "source": [
    "berk = MusicianPlus(\"Berk\")"
   ]
  },
  {
   "cell_type": "code",
   "execution_count": 112,
   "id": "a1b6dda0-4129-4fbb-86a9-15e688bed226",
   "metadata": {},
   "outputs": [
    {
     "name": "stdout",
     "output_type": "stream",
     "text": [
      "test2\n"
     ]
    }
   ],
   "source": [
    "berk.test2()"
   ]
  },
  {
   "cell_type": "code",
   "execution_count": 113,
   "id": "5e5d3156-bc72-4e24-9651-ec4833bda47e",
   "metadata": {},
   "outputs": [
    {
     "name": "stdout",
     "output_type": "stream",
     "text": [
      "plus test1\n"
     ]
    }
   ],
   "source": [
    "berk.test()"
   ]
  },
  {
   "cell_type": "code",
   "execution_count": 2,
   "id": "c2202e3e-2484-4115-b805-60a06bf53060",
   "metadata": {},
   "outputs": [],
   "source": [
    "class Banana():\n",
    "    \n",
    "    def __init__(self,name):\n",
    "        self.name = name\n",
    "        \n",
    "    def info(self):\n",
    "        return f\"100 calories {self.name}\"\n",
    "    \n",
    "class Apple():\n",
    "    \n",
    "    def __init__(self,name):\n",
    "        self.name = name\n",
    "        \n",
    "    def info(self):\n",
    "        return f\"150 calories {self.name}\""
   ]
  },
  {
   "cell_type": "code",
   "execution_count": 3,
   "id": "bf4a5737-ddf9-4bcf-9813-9b54bcf49416",
   "metadata": {},
   "outputs": [],
   "source": [
    "banana = Banana(\"banana\")"
   ]
  },
  {
   "cell_type": "code",
   "execution_count": 4,
   "id": "6a7e8a75-a72f-457b-823a-41655d8b4495",
   "metadata": {},
   "outputs": [],
   "source": [
    "apple = Apple(\"apple\")"
   ]
  },
  {
   "cell_type": "code",
   "execution_count": 117,
   "id": "2c84fdc6-8602-4819-94e8-7bbccf4d90e2",
   "metadata": {},
   "outputs": [
    {
     "data": {
      "text/plain": [
       "'100 calories banana'"
      ]
     },
     "execution_count": 117,
     "metadata": {},
     "output_type": "execute_result"
    }
   ],
   "source": [
    "banana.info()"
   ]
  },
  {
   "cell_type": "code",
   "execution_count": 5,
   "id": "f783b9ea-7a76-46f1-84fc-bb27276a6ac7",
   "metadata": {},
   "outputs": [
    {
     "data": {
      "text/plain": [
       "'150 calories apple'"
      ]
     },
     "execution_count": 5,
     "metadata": {},
     "output_type": "execute_result"
    }
   ],
   "source": [
    "apple.info()"
   ]
  },
  {
   "cell_type": "code",
   "execution_count": 6,
   "id": "658a0d92-5c4b-4f8a-8f88-41937c410364",
   "metadata": {},
   "outputs": [],
   "source": [
    "fruitList = [banana,apple]\n"
   ]
  },
  {
   "cell_type": "code",
   "execution_count": 7,
   "id": "48b29fa5-e96b-499a-aec1-a30a0c4aad68",
   "metadata": {},
   "outputs": [
    {
     "name": "stdout",
     "output_type": "stream",
     "text": [
      "100 calories banana\n",
      "150 calories apple\n"
     ]
    }
   ],
   "source": [
    "for fruit in fruitList:\n",
    "    print(fruit.info())"
   ]
  },
  {
   "cell_type": "markdown",
   "id": "fb911662-c166-4119-b7d1-8a8cdfa5dc58",
   "metadata": {},
   "source": [
    "## encapsulation"
   ]
  },
  {
   "cell_type": "code",
   "execution_count": 19,
   "id": "1af1b750-0b05-41b2-9dcb-dd01fbae8be8",
   "metadata": {},
   "outputs": [],
   "source": [
    "class Phone():\n",
    "    \n",
    "    def __init__(self,name,price):\n",
    "        self.name = name\n",
    "        self.__price = price\n",
    "        ##__ koymak private yapar\n",
    "    def info(self):\n",
    "        print(f\"{self.name} price is: {self.__price}\")\n",
    "        \n",
    "    def changePrice(self,price):\n",
    "        self.__price = price\n",
    "        ##price değiştirmek için"
   ]
  },
  {
   "cell_type": "code",
   "execution_count": 9,
   "id": "2e337ffb-1494-4b9d-b2e3-8d9ebcec9e1c",
   "metadata": {},
   "outputs": [],
   "source": [
    "iphone = Phone(\"iPhone 14\",500)"
   ]
  },
  {
   "cell_type": "code",
   "execution_count": 10,
   "id": "5941e78c-a3ff-41c4-a54e-fa47e76fdd8d",
   "metadata": {},
   "outputs": [
    {
     "name": "stdout",
     "output_type": "stream",
     "text": [
      "iPhone 14 price is: 500\n"
     ]
    }
   ],
   "source": [
    "iphone.info()"
   ]
  },
  {
   "cell_type": "code",
   "execution_count": 15,
   "id": "5d44bdd0-39c1-4f63-8a6b-166c58f75f3e",
   "metadata": {},
   "outputs": [],
   "source": [
    "iphone.__price = 400\n",
    "##değiştirmek için sadece kendi içerisinden değiştirebiliriz"
   ]
  },
  {
   "cell_type": "code",
   "execution_count": 16,
   "id": "09228805-e599-435c-b935-6110c862ee00",
   "metadata": {},
   "outputs": [
    {
     "name": "stdout",
     "output_type": "stream",
     "text": [
      "iPhone 14 price is: 300\n"
     ]
    }
   ],
   "source": [
    "iphone.info()"
   ]
  },
  {
   "cell_type": "code",
   "execution_count": 17,
   "id": "96535b45-b9f2-4cbb-8994-18ecb9dbc4f2",
   "metadata": {},
   "outputs": [],
   "source": [
    "iphone.changePrice(300)"
   ]
  },
  {
   "cell_type": "code",
   "execution_count": 18,
   "id": "331ce7df-214c-48da-ba6b-269f488a048d",
   "metadata": {},
   "outputs": [
    {
     "name": "stdout",
     "output_type": "stream",
     "text": [
      "iPhone 14 price is: 300\n"
     ]
    }
   ],
   "source": [
    "iphone.info()"
   ]
  },
  {
   "cell_type": "markdown",
   "id": "a8e1628f-a54f-45ed-bbff-bb2d940216b7",
   "metadata": {},
   "source": [
    "## abstraction\n"
   ]
  },
  {
   "cell_type": "code",
   "execution_count": 20,
   "id": "7358d300-70da-4d7d-9f03-a9516572bf7e",
   "metadata": {},
   "outputs": [],
   "source": [
    "from abc import ABC, abstractmethod"
   ]
  },
  {
   "cell_type": "code",
   "execution_count": 21,
   "id": "10a4d1bc-a6af-4487-95eb-05e6aa076627",
   "metadata": {},
   "outputs": [],
   "source": [
    "class Car(ABC):\n",
    "    \n",
    "    @abstractmethod\n",
    "    def maxSpeed(self):\n",
    "        pass"
   ]
  },
  {
   "cell_type": "code",
   "execution_count": 22,
   "id": "304b234a-4eb6-4b27-a693-d94a18a63e6e",
   "metadata": {},
   "outputs": [],
   "source": [
    "class Tesla(Car):\n",
    "    \n",
    "    def maxSpeed(self):\n",
    "        print(\"200km\")"
   ]
  },
  {
   "cell_type": "code",
   "execution_count": 24,
   "id": "2c81bde2-9935-4f98-929c-e2b257a2558e",
   "metadata": {},
   "outputs": [],
   "source": [
    "tesla = Tesla()"
   ]
  },
  {
   "cell_type": "code",
   "execution_count": 25,
   "id": "66de5535-caf2-4b60-868d-993243713570",
   "metadata": {},
   "outputs": [
    {
     "name": "stdout",
     "output_type": "stream",
     "text": [
      "200km\n"
     ]
    }
   ],
   "source": [
    "tesla.maxSpeed()"
   ]
  },
  {
   "cell_type": "code",
   "execution_count": 26,
   "id": "c50d9973-ad1d-4147-98d4-1d4cd2c051ba",
   "metadata": {},
   "outputs": [],
   "source": [
    "class Mercedes(Car):\n",
    "    \n",
    "    def maxSpeed(self):\n",
    "        print(\"250km\")"
   ]
  },
  {
   "cell_type": "code",
   "execution_count": 27,
   "id": "9a75ca6d-5115-44c2-8091-38f507ffc7d9",
   "metadata": {},
   "outputs": [],
   "source": [
    "mercedes = Mercedes()"
   ]
  },
  {
   "cell_type": "code",
   "execution_count": 28,
   "id": "776f1f35-dfb5-4204-8a57-ed3ff618740b",
   "metadata": {},
   "outputs": [
    {
     "name": "stdout",
     "output_type": "stream",
     "text": [
      "250km\n"
     ]
    }
   ],
   "source": [
    "mercedes.maxSpeed()"
   ]
  },
  {
   "cell_type": "code",
   "execution_count": 29,
   "id": "a2110688-5cb3-48a0-88de-360fc7c2c055",
   "metadata": {},
   "outputs": [],
   "source": [
    "class Fruit():\n",
    "    \n",
    "    def __init__(self,name,calories):\n",
    "        self.name = name\n",
    "        self.calories = calories\n",
    "    \n",
    "    def __str__(self):\n",
    "        return f\"{self.name}: {self.calories} calories\"\n",
    "    \n",
    "    def __len__(self):\n",
    "        return self.calories"
   ]
  },
  {
   "cell_type": "code",
   "execution_count": 30,
   "id": "d3dfb6aa-c0dc-4854-b017-78cd9bb7d381",
   "metadata": {},
   "outputs": [],
   "source": [
    "myFruit = Fruit(\"banana\",150)"
   ]
  },
  {
   "cell_type": "code",
   "execution_count": 33,
   "id": "8b1cf5ba-8321-4df3-9558-8d9786bc85c3",
   "metadata": {},
   "outputs": [
    {
     "data": {
      "text/plain": [
       "150"
      ]
     },
     "execution_count": 33,
     "metadata": {},
     "output_type": "execute_result"
    }
   ],
   "source": [
    "myFruit.calories"
   ]
  },
  {
   "cell_type": "code",
   "execution_count": 34,
   "id": "076d9877-aaf5-45be-bb5f-0137007379fe",
   "metadata": {},
   "outputs": [
    {
     "data": {
      "text/plain": [
       "'banana'"
      ]
     },
     "execution_count": 34,
     "metadata": {},
     "output_type": "execute_result"
    }
   ],
   "source": [
    "myFruit.name"
   ]
  },
  {
   "cell_type": "code",
   "execution_count": 35,
   "id": "e075671b-e8d3-40f8-8717-10dfbe79924d",
   "metadata": {},
   "outputs": [
    {
     "name": "stdout",
     "output_type": "stream",
     "text": [
      "banana: 150 calories\n"
     ]
    }
   ],
   "source": [
    "print(myFruit)"
   ]
  },
  {
   "cell_type": "code",
   "execution_count": 36,
   "id": "30ac8dfc-4e1e-4e1f-83fe-b903aab4f550",
   "metadata": {},
   "outputs": [],
   "source": [
    "myList = [10,20,30]"
   ]
  },
  {
   "cell_type": "code",
   "execution_count": 37,
   "id": "1adb4b07-f141-4c2d-af51-eedbcf2a2f59",
   "metadata": {},
   "outputs": [
    {
     "data": {
      "text/plain": [
       "3"
      ]
     },
     "execution_count": 37,
     "metadata": {},
     "output_type": "execute_result"
    }
   ],
   "source": [
    "len(myList)"
   ]
  },
  {
   "cell_type": "code",
   "execution_count": 38,
   "id": "b0b765c7-50cb-490f-8b91-d6c82854c39e",
   "metadata": {},
   "outputs": [
    {
     "data": {
      "text/plain": [
       "150"
      ]
     },
     "execution_count": 38,
     "metadata": {},
     "output_type": "execute_result"
    }
   ],
   "source": [
    "len(myFruit)"
   ]
  },
  {
   "cell_type": "code",
   "execution_count": 39,
   "id": "54f8e7c7-4384-4c6f-81d8-85c60806e3f4",
   "metadata": {},
   "outputs": [],
   "source": [
    "class Train():\n",
    "    \n",
    "    def __init__(self,name):\n",
    "        self.name = name\n",
    "        \n",
    "    def __getitem__(self,key):\n",
    "        if key == \"a\":\n",
    "            return self.name\n",
    "        else:\n",
    "            return \"Not found\""
   ]
  },
  {
   "cell_type": "code",
   "execution_count": 40,
   "id": "d8799d35-f32e-4b2a-8403-2638d7e1878f",
   "metadata": {},
   "outputs": [],
   "source": [
    "myTrain = Train(\"myTrain\")"
   ]
  },
  {
   "cell_type": "code",
   "execution_count": 41,
   "id": "c4876bfa-85ce-4638-9117-1ed8b613ee08",
   "metadata": {},
   "outputs": [
    {
     "data": {
      "text/plain": [
       "'myTrain'"
      ]
     },
     "execution_count": 41,
     "metadata": {},
     "output_type": "execute_result"
    }
   ],
   "source": [
    "myTrain[\"a\"]"
   ]
  },
  {
   "cell_type": "code",
   "execution_count": 43,
   "id": "009b49ce-12dc-4aca-b7cd-58d9ad141e0d",
   "metadata": {},
   "outputs": [
    {
     "data": {
      "text/plain": [
       "'Not found'"
      ]
     },
     "execution_count": 43,
     "metadata": {},
     "output_type": "execute_result"
    }
   ],
   "source": [
    "myTrain[\"b\"]"
   ]
  },
  {
   "cell_type": "markdown",
   "id": "8a657088-5620-4325-9ed2-e6645ef4df80",
   "metadata": {},
   "source": [
    "## Dosyalarla Çalışmak\n"
   ]
  },
  {
   "cell_type": "code",
   "execution_count": 1,
   "id": "695c8624-be98-4179-b790-33e96741b408",
   "metadata": {},
   "outputs": [
    {
     "name": "stdout",
     "output_type": "stream",
     "text": [
      "Writing myfile.txt\n"
     ]
    }
   ],
   "source": [
    "%%writefile myfile.txt\n",
    "test1\n",
    "test2\n",
    "test3\n"
   ]
  },
  {
   "cell_type": "code",
   "execution_count": 3,
   "id": "71de0317-018e-4dd1-a09c-0e1e5cc89874",
   "metadata": {},
   "outputs": [],
   "source": [
    "myFile = open(\"myfile.txt\")"
   ]
  },
  {
   "cell_type": "code",
   "execution_count": 4,
   "id": "948a7638-5b96-4532-9a80-6c5563e17871",
   "metadata": {},
   "outputs": [
    {
     "data": {
      "text/plain": [
       "'test1\\ntest2\\ntest3\\n'"
      ]
     },
     "execution_count": 4,
     "metadata": {},
     "output_type": "execute_result"
    }
   ],
   "source": [
    "myFile.read()"
   ]
  },
  {
   "cell_type": "code",
   "execution_count": 5,
   "id": "b6feb6a4-579a-4f02-9e05-4bbdd8a48eea",
   "metadata": {},
   "outputs": [
    {
     "data": {
      "text/plain": [
       "''"
      ]
     },
     "execution_count": 5,
     "metadata": {},
     "output_type": "execute_result"
    }
   ],
   "source": [
    "myFile.read()"
   ]
  },
  {
   "cell_type": "code",
   "execution_count": 6,
   "id": "55d40a86-bba1-43db-999e-f21bd0b36b50",
   "metadata": {},
   "outputs": [
    {
     "data": {
      "text/plain": [
       "0"
      ]
     },
     "execution_count": 6,
     "metadata": {},
     "output_type": "execute_result"
    }
   ],
   "source": [
    "myFile.seek(0)"
   ]
  },
  {
   "cell_type": "code",
   "execution_count": 7,
   "id": "fbffe634-ec0e-4e50-86a3-44f3cc286859",
   "metadata": {},
   "outputs": [
    {
     "data": {
      "text/plain": [
       "'test1\\ntest2\\ntest3\\n'"
      ]
     },
     "execution_count": 7,
     "metadata": {},
     "output_type": "execute_result"
    }
   ],
   "source": [
    "myFile.read()"
   ]
  },
  {
   "cell_type": "code",
   "execution_count": 8,
   "id": "614f0b3d-ce14-4da9-8feb-b95a1c947ad5",
   "metadata": {},
   "outputs": [
    {
     "data": {
      "text/plain": [
       "''"
      ]
     },
     "execution_count": 8,
     "metadata": {},
     "output_type": "execute_result"
    }
   ],
   "source": [
    "myFile.read()"
   ]
  },
  {
   "cell_type": "code",
   "execution_count": 9,
   "id": "835c5e04-66a0-462d-80f1-5a5e6adc89e6",
   "metadata": {},
   "outputs": [],
   "source": [
    "myFile.close()"
   ]
  },
  {
   "cell_type": "code",
   "execution_count": 14,
   "id": "65f48fe5-96b4-41a0-8f8f-9fdaddecfe93",
   "metadata": {},
   "outputs": [],
   "source": [
    "with open(\"myFile.txt\") as myFile:\n",
    "   myContent= myFile.read()\n",
    "    "
   ]
  },
  {
   "cell_type": "code",
   "execution_count": 15,
   "id": "8e27a3ec-b6d2-4bdb-8978-555316dacb70",
   "metadata": {},
   "outputs": [
    {
     "data": {
      "text/plain": [
       "'test1\\ntest2\\ntest3\\n'"
      ]
     },
     "execution_count": 15,
     "metadata": {},
     "output_type": "execute_result"
    }
   ],
   "source": [
    "myContent"
   ]
  },
  {
   "cell_type": "code",
   "execution_count": 16,
   "id": "a5845f84-7720-4c10-9a79-f45497745c67",
   "metadata": {},
   "outputs": [
    {
     "data": {
      "text/plain": [
       "'test1\\ntest2\\ntest3\\n'"
      ]
     },
     "execution_count": 16,
     "metadata": {},
     "output_type": "execute_result"
    }
   ],
   "source": [
    "myContent"
   ]
  },
  {
   "cell_type": "code",
   "execution_count": 24,
   "id": "9f063ac6-d9c6-417d-a23d-2a1218fdaadd",
   "metadata": {},
   "outputs": [],
   "source": [
    "with open(\"myfile.txt\",mode=\"w\") as myNewFile:\n",
    "    myNewFile.write(\"test4\")\n",
    "    "
   ]
  },
  {
   "cell_type": "code",
   "execution_count": 26,
   "id": "677f0364-766d-43a0-850a-b6f1f3131e30",
   "metadata": {},
   "outputs": [
    {
     "data": {
      "text/plain": [
       "<_io.TextIOWrapper name='myfile.txt' mode='w' encoding='cp1254'>"
      ]
     },
     "execution_count": 26,
     "metadata": {},
     "output_type": "execute_result"
    }
   ],
   "source": [
    "myNewFile"
   ]
  },
  {
   "cell_type": "code",
   "execution_count": 27,
   "id": "f33ed1cd-0c2b-4a35-9976-009640f47017",
   "metadata": {},
   "outputs": [],
   "source": [
    "with open(\"myfile.txt\",mode=\"r\") as myNewFiles:\n",
    "    myContent = myNewFiles.read()"
   ]
  },
  {
   "cell_type": "code",
   "execution_count": 29,
   "id": "414f82a5-b2b8-4bbd-859f-176298426651",
   "metadata": {},
   "outputs": [
    {
     "data": {
      "text/plain": [
       "'test4'"
      ]
     },
     "execution_count": 29,
     "metadata": {},
     "output_type": "execute_result"
    }
   ],
   "source": [
    "myContent"
   ]
  },
  {
   "cell_type": "code",
   "execution_count": 30,
   "id": "c537bb12-4483-498f-bc71-a14383b6e367",
   "metadata": {},
   "outputs": [],
   "source": [
    "with open(\"myfile.txt\",mode=\"a\") as myNewFiles2:\n",
    "    myNewFiles2.write(\"test5\")"
   ]
  },
  {
   "cell_type": "code",
   "execution_count": 31,
   "id": "9605814e-ab71-4f84-9a16-4f2842ce2ff1",
   "metadata": {},
   "outputs": [],
   "source": [
    "with open(\"myfile.txt\",mode=\"r\") as myNewFiles:\n",
    "    myContent = myNewFiles.read()"
   ]
  },
  {
   "cell_type": "code",
   "execution_count": 32,
   "id": "ee14728e-d90d-4d1c-b406-039239a26486",
   "metadata": {},
   "outputs": [
    {
     "data": {
      "text/plain": [
       "'test4test5'"
      ]
     },
     "execution_count": 32,
     "metadata": {},
     "output_type": "execute_result"
    }
   ],
   "source": [
    "myContent"
   ]
  },
  {
   "cell_type": "markdown",
   "id": "07710367-5127-4a52-a11d-1c92f130cce6",
   "metadata": {},
   "source": [
    "## Type Annotation "
   ]
  },
  {
   "cell_type": "code",
   "execution_count": 33,
   "id": "75a098d4-673f-4578-a408-55b424b950b4",
   "metadata": {},
   "outputs": [],
   "source": [
    "name : str = \"Alper\""
   ]
  },
  {
   "cell_type": "code",
   "execution_count": 34,
   "id": "c2410b32-e4dd-4015-8664-92df1613757f",
   "metadata": {},
   "outputs": [],
   "source": [
    "age : int = 12"
   ]
  },
  {
   "cell_type": "code",
   "execution_count": 35,
   "id": "69f35230-4137-4f0a-9540-7cc19036caa7",
   "metadata": {},
   "outputs": [],
   "source": [
    "surname : str = 12"
   ]
  },
  {
   "cell_type": "code",
   "execution_count": 36,
   "id": "519fdcdf-f4c7-4097-a663-eab7ad078ee3",
   "metadata": {},
   "outputs": [
    {
     "data": {
      "text/plain": [
       "int"
      ]
     },
     "execution_count": 36,
     "metadata": {},
     "output_type": "execute_result"
    }
   ],
   "source": [
    "type(surname)"
   ]
  },
  {
   "cell_type": "code",
   "execution_count": null,
   "id": "643805cf-fb8c-4cc5-a291-916cece50bae",
   "metadata": {},
   "outputs": [],
   "source": []
  }
 ],
 "metadata": {
  "kernelspec": {
   "display_name": "Python 3 (ipykernel)",
   "language": "python",
   "name": "python3"
  },
  "language_info": {
   "codemirror_mode": {
    "name": "ipython",
    "version": 3
   },
   "file_extension": ".py",
   "mimetype": "text/x-python",
   "name": "python",
   "nbconvert_exporter": "python",
   "pygments_lexer": "ipython3",
   "version": "3.13.5"
  }
 },
 "nbformat": 4,
 "nbformat_minor": 5
}
