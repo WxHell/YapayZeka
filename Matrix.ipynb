{
 "cells": [
  {
   "cell_type": "code",
   "execution_count": 2,
   "id": "bfbadd95-b135-41ca-8639-7ef681712ecf",
   "metadata": {},
   "outputs": [],
   "source": [
    "import numpy as np"
   ]
  },
  {
   "cell_type": "code",
   "execution_count": 3,
   "id": "52b68342-dee4-4270-adb3-41d8d39f123c",
   "metadata": {},
   "outputs": [],
   "source": [
    "my_matrix=[[5,10],[20,30]]"
   ]
  },
  {
   "cell_type": "code",
   "execution_count": 4,
   "id": "0a9dbafd-ec5b-42e3-a083-1c03840e25ab",
   "metadata": {},
   "outputs": [
    {
     "data": {
      "text/plain": [
       "[5, 10]"
      ]
     },
     "execution_count": 4,
     "metadata": {},
     "output_type": "execute_result"
    }
   ],
   "source": [
    "my_matrix[0]"
   ]
  },
  {
   "cell_type": "code",
   "execution_count": 5,
   "id": "2143d37d-96c3-498a-94ec-7af1569855fd",
   "metadata": {},
   "outputs": [],
   "source": [
    "#matrix yapısı row * column"
   ]
  },
  {
   "cell_type": "code",
   "execution_count": 6,
   "id": "8c4fdad8-582f-4d39-84b4-3212d1bb25e1",
   "metadata": {},
   "outputs": [],
   "source": [
    "numpy_matrix =  np.array([[5,10],[15,20]])"
   ]
  },
  {
   "cell_type": "code",
   "execution_count": 7,
   "id": "4cd5200c-69f9-48de-beb1-3ec624fd4a2c",
   "metadata": {},
   "outputs": [
    {
     "data": {
      "text/plain": [
       "array([[ 5, 10],\n",
       "       [15, 20]])"
      ]
     },
     "execution_count": 7,
     "metadata": {},
     "output_type": "execute_result"
    }
   ],
   "source": [
    "numpy_matrix"
   ]
  },
  {
   "cell_type": "code",
   "execution_count": 8,
   "id": "d77c47d3-4051-4155-901a-ad57da61039d",
   "metadata": {},
   "outputs": [
    {
     "data": {
      "text/plain": [
       "np.int64(15)"
      ]
     },
     "execution_count": 8,
     "metadata": {},
     "output_type": "execute_result"
    }
   ],
   "source": [
    "numpy_matrix[1][0]"
   ]
  },
  {
   "cell_type": "code",
   "execution_count": 9,
   "id": "0f61ad9c-ee09-44ba-bccc-1bfce9f2404b",
   "metadata": {},
   "outputs": [
    {
     "data": {
      "text/plain": [
       "np.int64(50)"
      ]
     },
     "execution_count": 9,
     "metadata": {},
     "output_type": "execute_result"
    }
   ],
   "source": [
    "numpy_matrix.sum()"
   ]
  },
  {
   "cell_type": "code",
   "execution_count": 10,
   "id": "fc919872-97e9-4bc6-9ad4-fecf4be616d5",
   "metadata": {},
   "outputs": [
    {
     "data": {
      "text/plain": [
       "array([[1., 1., 1., 1., 1., 1.],\n",
       "       [1., 1., 1., 1., 1., 1.],\n",
       "       [1., 1., 1., 1., 1., 1.],\n",
       "       [1., 1., 1., 1., 1., 1.]])"
      ]
     },
     "execution_count": 10,
     "metadata": {},
     "output_type": "execute_result"
    }
   ],
   "source": [
    "np.ones((4,6))"
   ]
  },
  {
   "cell_type": "code",
   "execution_count": 11,
   "id": "0542c34f-0158-4448-a4e7-0c980438b5bb",
   "metadata": {},
   "outputs": [
    {
     "data": {
      "text/plain": [
       "array([[0., 0., 0., 0., 0., 0., 0., 0.],\n",
       "       [0., 0., 0., 0., 0., 0., 0., 0.],\n",
       "       [0., 0., 0., 0., 0., 0., 0., 0.]])"
      ]
     },
     "execution_count": 11,
     "metadata": {},
     "output_type": "execute_result"
    }
   ],
   "source": [
    "np.zeros((3,8))"
   ]
  },
  {
   "cell_type": "code",
   "execution_count": 12,
   "id": "5315d4d6-e76f-4ccc-abcc-5fca76423bf9",
   "metadata": {},
   "outputs": [
    {
     "data": {
      "text/plain": [
       "array([[0.75231726, 0.95483567, 0.86750268, 0.88082939],\n",
       "       [0.15725361, 0.38271371, 0.7209467 , 0.16969241],\n",
       "       [0.14523525, 0.93698226, 0.64842702, 0.07141136]])"
      ]
     },
     "execution_count": 12,
     "metadata": {},
     "output_type": "execute_result"
    }
   ],
   "source": [
    "np.random.random((3,4))"
   ]
  },
  {
   "cell_type": "code",
   "execution_count": 13,
   "id": "b3561e3d-57e1-4a00-b951-baee4d4590b7",
   "metadata": {},
   "outputs": [],
   "source": [
    "#matrix aritmetiği"
   ]
  },
  {
   "cell_type": "code",
   "execution_count": 14,
   "id": "3684a041-f515-405a-b06b-8756d5e73618",
   "metadata": {},
   "outputs": [],
   "source": [
    "array1=np.array([[25,35],[50,60]])"
   ]
  },
  {
   "cell_type": "code",
   "execution_count": 15,
   "id": "4cc29efa-e745-4c71-9d0f-a1e18c30c1fd",
   "metadata": {},
   "outputs": [],
   "source": [
    "array2 = np.array([[55,65],[35,65]])"
   ]
  },
  {
   "cell_type": "code",
   "execution_count": 16,
   "id": "b069d7f1-efd4-4845-989e-727a71530f49",
   "metadata": {},
   "outputs": [
    {
     "data": {
      "text/plain": [
       "array([[ 80, 100],\n",
       "       [ 85, 125]])"
      ]
     },
     "execution_count": 16,
     "metadata": {},
     "output_type": "execute_result"
    }
   ],
   "source": [
    "array1 + array2"
   ]
  },
  {
   "cell_type": "code",
   "execution_count": 17,
   "id": "1178eaff-8bcc-4765-a162-bb9c608eff77",
   "metadata": {},
   "outputs": [
    {
     "data": {
      "text/plain": [
       "array([[25, 35],\n",
       "       [50, 60]])"
      ]
     },
     "execution_count": 17,
     "metadata": {},
     "output_type": "execute_result"
    }
   ],
   "source": [
    "array1"
   ]
  },
  {
   "cell_type": "code",
   "execution_count": 18,
   "id": "9a6cfc2f-a3ea-4a7f-bb0d-d616c7aff17f",
   "metadata": {},
   "outputs": [],
   "source": [
    "array3 =np.array([[50,60]])"
   ]
  },
  {
   "cell_type": "code",
   "execution_count": 20,
   "id": "f377eed9-3287-4e7f-9d16-f287ad80cc4b",
   "metadata": {},
   "outputs": [
    {
     "data": {
      "text/plain": [
       "array([[50, 60]])"
      ]
     },
     "execution_count": 20,
     "metadata": {},
     "output_type": "execute_result"
    }
   ],
   "source": [
    "array3"
   ]
  },
  {
   "cell_type": "code",
   "execution_count": 21,
   "id": "49374487-3d07-449d-b3d4-04d5ccee17a1",
   "metadata": {},
   "outputs": [
    {
     "data": {
      "text/plain": [
       "array([[ 75,  95],\n",
       "       [100, 120]])"
      ]
     },
     "execution_count": 21,
     "metadata": {},
     "output_type": "execute_result"
    }
   ],
   "source": [
    "array1 + array3"
   ]
  },
  {
   "cell_type": "code",
   "execution_count": 22,
   "id": "b1fea065-bb68-45d6-b37b-48ab73446e94",
   "metadata": {},
   "outputs": [],
   "source": [
    "array4=np.array([[10,20,30,40,]])"
   ]
  },
  {
   "cell_type": "code",
   "execution_count": 24,
   "id": "15535aa1-a3d5-45dd-bcf5-24541ec355ef",
   "metadata": {},
   "outputs": [
    {
     "ename": "ValueError",
     "evalue": "operands could not be broadcast together with shapes (1,4) (2,2) ",
     "output_type": "error",
     "traceback": [
      "\u001b[1;31m---------------------------------------------------------------------------\u001b[0m",
      "\u001b[1;31mValueError\u001b[0m                                Traceback (most recent call last)",
      "Cell \u001b[1;32mIn[24], line 1\u001b[0m\n\u001b[1;32m----> 1\u001b[0m array4 \u001b[38;5;241m+\u001b[39m array1\n",
      "\u001b[1;31mValueError\u001b[0m: operands could not be broadcast together with shapes (1,4) (2,2) "
     ]
    }
   ],
   "source": [
    "array4 + array1\n",
    "#işlem yapamaz"
   ]
  },
  {
   "cell_type": "code",
   "execution_count": 26,
   "id": "2de34d8e-eb1b-4045-b16c-02cf3134c8b1",
   "metadata": {},
   "outputs": [
    {
     "data": {
      "text/plain": [
       "(2, 2)"
      ]
     },
     "execution_count": 26,
     "metadata": {},
     "output_type": "execute_result"
    }
   ],
   "source": [
    "array1.shape"
   ]
  },
  {
   "cell_type": "code",
   "execution_count": 27,
   "id": "840cb69b-4895-4322-9835-3a912629302b",
   "metadata": {},
   "outputs": [],
   "source": [
    "array5  = np.array([[10],[20]])"
   ]
  },
  {
   "cell_type": "code",
   "execution_count": 28,
   "id": "e1957632-5b2e-4d73-974f-7e8f41270dfb",
   "metadata": {},
   "outputs": [
    {
     "data": {
      "text/plain": [
       "array([[10],\n",
       "       [20]])"
      ]
     },
     "execution_count": 28,
     "metadata": {},
     "output_type": "execute_result"
    }
   ],
   "source": [
    "array5"
   ]
  },
  {
   "cell_type": "code",
   "execution_count": 29,
   "id": "f3d679ef-8f3a-4e4e-a9ec-0e982d716bdb",
   "metadata": {},
   "outputs": [
    {
     "data": {
      "text/plain": [
       "(2, 1)"
      ]
     },
     "execution_count": 29,
     "metadata": {},
     "output_type": "execute_result"
    }
   ],
   "source": [
    "array5.shape"
   ]
  },
  {
   "cell_type": "code",
   "execution_count": 30,
   "id": "474fa712-058e-4fc9-af27-054643098de6",
   "metadata": {},
   "outputs": [
    {
     "data": {
      "text/plain": [
       "array([[35, 45],\n",
       "       [70, 80]])"
      ]
     },
     "execution_count": 30,
     "metadata": {},
     "output_type": "execute_result"
    }
   ],
   "source": [
    "array1 + array5"
   ]
  },
  {
   "cell_type": "code",
   "execution_count": 31,
   "id": "9e484945-db7c-4578-8bb2-db18938f1418",
   "metadata": {},
   "outputs": [],
   "source": [
    "#matrix  çarpma işlemi"
   ]
  },
  {
   "cell_type": "code",
   "execution_count": 32,
   "id": "bbe58ae4-d37b-4524-bfca-66b07c217923",
   "metadata": {},
   "outputs": [
    {
     "data": {
      "text/plain": [
       "array([[1375, 2275],\n",
       "       [1750, 3900]])"
      ]
     },
     "execution_count": 32,
     "metadata": {},
     "output_type": "execute_result"
    }
   ],
   "source": [
    "array1 * array2"
   ]
  },
  {
   "cell_type": "code",
   "execution_count": 33,
   "id": "80740626-3a80-4111-b189-1a5a1d92d143",
   "metadata": {},
   "outputs": [],
   "source": [
    "#dot product"
   ]
  },
  {
   "cell_type": "code",
   "execution_count": 34,
   "id": "a0887dd1-42e8-44a4-a3bf-829f6b21ef37",
   "metadata": {},
   "outputs": [],
   "source": [
    "new_matrix = np.array([[10,20,30,]])"
   ]
  },
  {
   "cell_type": "code",
   "execution_count": 35,
   "id": "58e77fd2-61f2-4a14-abdd-986113c3ae79",
   "metadata": {},
   "outputs": [
    {
     "data": {
      "text/plain": [
       "array([[10, 20, 30]])"
      ]
     },
     "execution_count": 35,
     "metadata": {},
     "output_type": "execute_result"
    }
   ],
   "source": [
    "new_matrix"
   ]
  },
  {
   "cell_type": "code",
   "execution_count": 36,
   "id": "a32dbc0f-3c33-40bb-9a1c-b52f8360b29f",
   "metadata": {},
   "outputs": [
    {
     "data": {
      "text/plain": [
       "(1, 3)"
      ]
     },
     "execution_count": 36,
     "metadata": {},
     "output_type": "execute_result"
    }
   ],
   "source": [
    "new_matrix.shape"
   ]
  },
  {
   "cell_type": "code",
   "execution_count": 37,
   "id": "d156d88b-1814-4a05-8d69-68c32d55556a",
   "metadata": {},
   "outputs": [],
   "source": [
    "new_matrix2=np.array([[2,3],[2,3],[2,3]])"
   ]
  },
  {
   "cell_type": "code",
   "execution_count": 38,
   "id": "14e465fc-0141-4e0c-a557-9bd539b9d12f",
   "metadata": {},
   "outputs": [
    {
     "data": {
      "text/plain": [
       "array([[2, 3],\n",
       "       [2, 3],\n",
       "       [2, 3]])"
      ]
     },
     "execution_count": 38,
     "metadata": {},
     "output_type": "execute_result"
    }
   ],
   "source": [
    "new_matrix2"
   ]
  },
  {
   "cell_type": "code",
   "execution_count": 39,
   "id": "0f4d3e43-a6e7-4fd1-941f-834b8bb6c0ff",
   "metadata": {},
   "outputs": [
    {
     "data": {
      "text/plain": [
       "(3, 2)"
      ]
     },
     "execution_count": 39,
     "metadata": {},
     "output_type": "execute_result"
    }
   ],
   "source": [
    "new_matrix2.shape"
   ]
  },
  {
   "cell_type": "code",
   "execution_count": 40,
   "id": "27d41b22-66ef-464a-9ef3-b1571e431090",
   "metadata": {},
   "outputs": [],
   "source": [
    "#new_matrix * new_matrix2"
   ]
  },
  {
   "cell_type": "code",
   "execution_count": 42,
   "id": "87969e2d-0a24-4d5e-b959-f41bbc8fc92b",
   "metadata": {},
   "outputs": [],
   "source": [
    "result=new_matrix.dot(new_matrix2)"
   ]
  },
  {
   "cell_type": "code",
   "execution_count": 43,
   "id": "06da08f2-4108-4dfd-89c6-deb49c3bb38f",
   "metadata": {},
   "outputs": [
    {
     "data": {
      "text/plain": [
       "array([[120, 180]])"
      ]
     },
     "execution_count": 43,
     "metadata": {},
     "output_type": "execute_result"
    }
   ],
   "source": [
    "result"
   ]
  },
  {
   "cell_type": "code",
   "execution_count": 44,
   "id": "3775a463-1b8f-4f96-b221-595edd23ded5",
   "metadata": {},
   "outputs": [
    {
     "data": {
      "text/plain": [
       "(1, 2)"
      ]
     },
     "execution_count": 44,
     "metadata": {},
     "output_type": "execute_result"
    }
   ],
   "source": [
    "result.shape"
   ]
  },
  {
   "cell_type": "code",
   "execution_count": null,
   "id": "758fdfbf-41aa-402d-ac5c-7c92e1062dab",
   "metadata": {},
   "outputs": [],
   "source": []
  }
 ],
 "metadata": {
  "kernelspec": {
   "display_name": "Python 3 (ipykernel)",
   "language": "python",
   "name": "python3"
  },
  "language_info": {
   "codemirror_mode": {
    "name": "ipython",
    "version": 3
   },
   "file_extension": ".py",
   "mimetype": "text/x-python",
   "name": "python",
   "nbconvert_exporter": "python",
   "pygments_lexer": "ipython3",
   "version": "3.13.5"
  }
 },
 "nbformat": 4,
 "nbformat_minor": 5
}
